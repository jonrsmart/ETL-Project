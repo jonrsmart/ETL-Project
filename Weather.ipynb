{
 "cells": [
  {
   "cell_type": "code",
   "execution_count": 16,
   "metadata": {},
   "outputs": [],
   "source": [
    "#Extracting data from Open Weather api. We need to first determine (from our airbnb csv's)\n",
    "# what cities to extract from OpenWeather api, because we can't extract the whole planet of cities"
   ]
  },
  {
   "cell_type": "code",
   "execution_count": null,
   "metadata": {},
   "outputs": [],
   "source": [
    "#Extracting cities from our New Zealand spreadsheet"
   ]
  },
  {
   "cell_type": "code",
   "execution_count": 1,
   "metadata": {},
   "outputs": [],
   "source": [
    "# Dependencies and Setup\n",
    "import pandas as pd\n",
    "import numpy as np\n",
    "import requests\n",
    "import time\n",
    "import json\n",
    "import csv\n",
    "\n",
    "# Incorporated citipy to determine city based on latitude and longitude\n",
    "from citipy import citipy\n",
    "\n",
    "# Import API key\n",
    "from api_keys import weather_api_key\n",
    "\n",
    "#Import Data files:\n",
    "new_zealand_df = pd.read_csv(\"airbb_data/new_zealand.csv\")\n",
    "\n",
    "#Grab lat and long b/c we will use them to find the cities later\n",
    "new_zealand = new_zealand_df[['latitude', 'longitude']]"
   ]
  },
  {
   "cell_type": "code",
   "execution_count": 17,
   "metadata": {},
   "outputs": [],
   "source": [
    "#new_zealand.head()"
   ]
  },
  {
   "cell_type": "code",
   "execution_count": 3,
   "metadata": {},
   "outputs": [
    {
     "name": "stderr",
     "output_type": "stream",
     "text": [
      "C:\\Users\\Beverly\\anaconda3\\envs\\case_python\\lib\\site-packages\\ipykernel_launcher.py:1: SettingWithCopyWarning: \n",
      "A value is trying to be set on a copy of a slice from a DataFrame.\n",
      "Try using .loc[row_indexer,col_indexer] = value instead\n",
      "\n",
      "See the caveats in the documentation: https://pandas.pydata.org/pandas-docs/stable/user_guide/indexing.html#returning-a-view-versus-a-copy\n",
      "  \"\"\"Entry point for launching an IPython kernel.\n"
     ]
    }
   ],
   "source": [
    "#Using the citipy package to find the nearest city to the lat and long provided\n",
    "new_zealand['city'] = new_zealand.apply(lambda row: citipy.nearest_city(row.latitude, row.longitude).city_name, axis = 1)"
   ]
  },
  {
   "cell_type": "code",
   "execution_count": 18,
   "metadata": {},
   "outputs": [],
   "source": [
    "#new_zealand.head()"
   ]
  },
  {
   "cell_type": "code",
   "execution_count": 19,
   "metadata": {},
   "outputs": [],
   "source": [
    "#Grouping by city to remove duplicates\n",
    "\n",
    "new_zealand_cities = new_zealand[['city']].groupby(['city'])\n",
    "new_zealand_cities_df = new_zealand_cities.sum()\n",
    "new_zealand_cities_df.reset_index(level=0, inplace=True)\n",
    "#new_zealand_cities_df"
   ]
  },
  {
   "cell_type": "code",
   "execution_count": 20,
   "metadata": {},
   "outputs": [],
   "source": [
    "#Transforming our city series into a city list to use with the api\n",
    "\n",
    "nz_city = new_zealand_cities_df['city']\n",
    "#nz_city\n",
    "cities = nz_city.values.tolist()\n",
    "#cities"
   ]
  },
  {
   "cell_type": "code",
   "execution_count": 7,
   "metadata": {},
   "outputs": [
    {
     "name": "stdout",
     "output_type": "stream",
     "text": [
      "Getting ahipara's weather information(City #1).\n",
      "Getting amberley's weather information(City #2).\n",
      "Getting athenree's weather information(City #3).\n",
      "Getting auckland's weather information(City #4).\n",
      "Getting balclutha's weather information(City #5).\n",
      "Getting bluff's weather information(City #6).\n",
      "Getting bombay's weather information(City #7).\n",
      "Getting brightwater's weather information(City #8).\n",
      "Getting bulls's weather information(City #9).\n",
      "Getting burnham's weather information(City #10).\n",
      "Getting christchurch's weather information(City #11).\n",
      "Getting clyde's weather information(City #12).\n",
      "Getting coromandel's weather information(City #13).\n",
      "Getting darfield's weather information(City #14).\n",
      "Getting dargaville's weather information(City #15).\n",
      "Getting dobson's weather information(City #16).\n",
      "Getting dunedin's weather information(City #17).\n",
      "Getting edendale's weather information(City #18).\n",
      "Getting edgecumbe's weather information(City #19).\n",
      "Getting eltham's weather information(City #20).\n",
      "Getting fairlie's weather information(City #21).\n",
      "Getting foxton's weather information(City #22).\n",
      "Getting gisborne's weather information(City #23).\n",
      "Getting greymouth's weather information(City #24).\n",
      "Getting hamilton's weather information(City #25).\n",
      "Getting hanmer springs's weather information(City #26).\n",
      "Getting hastings's weather information(City #27).\n",
      "Getting havelock's weather information(City #28).\n",
      "Getting hawera's weather information(City #29).\n",
      "Getting himatangi's weather information(City #30).\n",
      "Getting hokitika's weather information(City #31).\n",
      "Getting hunterville's weather information(City #32).\n",
      "Getting invercargill's weather information(City #33).\n",
      "Getting kaeo's weather information(City #34).\n",
      "Getting kaitangata's weather information(City #35).\n",
      "Getting kaiwaka's weather information(City #36).\n",
      "Can't find karamea (City #37) .\n",
      "Getting katikati's weather information(City #38).\n",
      "Getting kawakawa's weather information(City #39).\n",
      "Getting kawerau's weather information(City #40).\n",
      "Getting kawhia's weather information(City #41).\n",
      "Getting kerepehi's weather information(City #42).\n",
      "Getting kerikeri's weather information(City #43).\n",
      "Getting leeston's weather information(City #44).\n",
      "Getting levin's weather information(City #45).\n",
      "Getting lincoln's weather information(City #46).\n",
      "Getting lower hutt's weather information(City #47).\n",
      "Getting maketu's weather information(City #48).\n",
      "Getting mamaku's weather information(City #49).\n",
      "Getting manaia's weather information(City #50).\n",
      "Getting manutuke's weather information(City #51).\n",
      "Getting mapua's weather information(City #52).\n",
      "Getting masterton's weather information(City #53).\n",
      "Getting matata's weather information(City #54).\n",
      "Getting maungatapere's weather information(City #55).\n",
      "Getting maungaturoto's weather information(City #56).\n",
      "Getting methven's weather information(City #57).\n",
      "Getting milton's weather information(City #58).\n",
      "Getting moerewa's weather information(City #59).\n",
      "Getting murchison's weather information(City #60).\n",
      "Getting muriwai beach's weather information(City #61).\n",
      "Getting murupara's weather information(City #62).\n",
      "Getting napier's weather information(City #63).\n",
      "Getting nelson's weather information(City #64).\n",
      "Getting new plymouth's weather information(City #65).\n",
      "Getting ngatea's weather information(City #66).\n",
      "Getting ngunguru's weather information(City #67).\n",
      "Getting north shore's weather information(City #68).\n",
      "Getting ohaeawai's weather information(City #69).\n",
      "Getting okaihau's weather information(City #70).\n",
      "Getting okato's weather information(City #71).\n",
      "Getting opotiki's weather information(City #72).\n",
      "Getting opunake's weather information(City #73).\n",
      "Getting otaki's weather information(City #74).\n",
      "Getting otane's weather information(City #75).\n",
      "Getting otautau's weather information(City #76).\n",
      "Getting otorohanga's weather information(City #77).\n",
      "Getting outram's weather information(City #78).\n",
      "Getting oxford's weather information(City #79).\n",
      "Getting paengaroa's weather information(City #80).\n",
      "Getting paeroa's weather information(City #81).\n",
      "Getting paihia's weather information(City #82).\n",
      "Getting palmerston north's weather information(City #83).\n",
      "Getting parakai's weather information(City #84).\n",
      "Getting pareora's weather information(City #85).\n",
      "Getting patea's weather information(City #86).\n",
      "Getting piopio's weather information(City #87).\n",
      "Getting pleasant point's weather information(City #88).\n",
      "Getting porirua's weather information(City #89).\n",
      "Getting raglan's weather information(City #90).\n",
      "Getting rakaia's weather information(City #91).\n",
      "Getting ranfurly's weather information(City #92).\n",
      "Can't find reefton (City #93) .\n",
      "Getting reporoa's weather information(City #94).\n",
      "Getting riverton's weather information(City #95).\n",
      "Getting riwaka's weather information(City #96).\n",
      "Getting rolleston's weather information(City #97).\n",
      "Getting rongotea's weather information(City #98).\n",
      "Can't find ruatoria (City #99) .\n",
      "Getting russell's weather information(City #100).\n",
      "Getting sanson's weather information(City #101).\n",
      "Getting seddon's weather information(City #102).\n",
      "Getting sefton's weather information(City #103).\n",
      "Getting southbridge's weather information(City #104).\n",
      "Getting tairua's weather information(City #105).\n",
      "Getting takaka's weather information(City #106).\n",
      "Getting takapau's weather information(City #107).\n",
      "Can't find taneatua (City #108) .\n",
      "Getting taupo's weather information(City #109).\n",
      "Getting tauranga's weather information(City #110).\n",
      "Getting te anau's weather information(City #111).\n",
      "Getting te horo's weather information(City #112).\n",
      "Getting te karaka's weather information(City #113).\n",
      "Getting te kauwhata's weather information(City #114).\n",
      "Getting thames's weather information(City #115).\n",
      "Getting timaru's weather information(City #116).\n",
      "Getting tirau's weather information(City #117).\n",
      "Getting tokomaru's weather information(City #118).\n",
      "Getting tokoroa's weather information(City #119).\n",
      "Getting tolaga bay's weather information(City #120).\n",
      "Getting tuatapere's weather information(City #121).\n",
      "Getting turangi's weather information(City #122).\n",
      "Getting vaini's weather information(City #123).\n",
      "Getting waharoa's weather information(City #124).\n",
      "Getting waihi's weather information(City #125).\n",
      "Getting waihi beach's weather information(City #126).\n",
      "Getting waikuku's weather information(City #127).\n",
      "Getting waimana's weather information(City #128).\n",
      "Getting waiouru's weather information(City #129).\n",
      "Getting waipawa's weather information(City #130).\n",
      "Getting wairoa's weather information(City #131).\n",
      "Getting waitakere's weather information(City #132).\n",
      "Getting waitara's weather information(City #133).\n",
      "Getting waitati's weather information(City #134).\n",
      "Getting waiuku's weather information(City #135).\n",
      "Getting wakefield's weather information(City #136).\n",
      "Getting wallacetown's weather information(City #137).\n",
      "Getting wanaka's weather information(City #138).\n",
      "Getting wanganui's weather information(City #139).\n",
      "Getting warkworth's weather information(City #140).\n",
      "Getting waverley's weather information(City #141).\n",
      "Getting wellington's weather information(City #142).\n",
      "Getting wellsford's weather information(City #143).\n",
      "Getting westport's weather information(City #144).\n",
      "Getting whakatane's weather information(City #145).\n",
      "Getting whangamata's weather information(City #146).\n",
      "Getting whangarei's weather information(City #147).\n",
      "Getting whitianga's weather information(City #148).\n",
      "Getting winton's weather information(City #149).\n",
      "Getting woodend's weather information(City #150).\n",
      "Getting wyndham's weather information(City #151).\n"
     ]
    }
   ],
   "source": [
    "#Open weather information\n",
    "url = \"http://api.openweathermap.org/data/2.5/weather?\"\n",
    "units = \"imperial\"\n",
    "\n",
    "\n",
    "\n",
    "#field_names\n",
    "#empty lists for the fields of our future city weather csv\n",
    "city_list = []\n",
    "lat = []\n",
    "lng = []\n",
    "max_temp = []\n",
    "humidity = []\n",
    "cloudiness = []\n",
    "wind_speed = []\n",
    "country = []\n",
    "\n",
    "for city in cities:\n",
    "    \n",
    "    #Get the city's number\n",
    "    city_no = cities.index(city) + 1\n",
    "    \n",
    "    try:\n",
    "        query_url = f\"{url}appid={weather_api_key}&q={city}&units={units}\"\n",
    "        \n",
    "        \n",
    "\n",
    "        # Get weather data\n",
    "        weather_response = requests.get(query_url)\n",
    "        weather_json = weather_response.json()\n",
    "\n",
    "        #Put the city's weather into lists\n",
    "        city_list.append(weather_json[\"name\"])\n",
    "        lat.append(weather_json[\"coord\"][\"lat\"])\n",
    "        lng.append(weather_json[\"coord\"][\"lon\"])\n",
    "        max_temp.append(weather_json[\"main\"][\"temp_max\"])\n",
    "        humidity.append(weather_json[\"main\"][\"humidity\"])\n",
    "        cloudiness.append(weather_json[\"clouds\"][\"all\"])\n",
    "        wind_speed.append(weather_json[\"wind\"][\"speed\"])\n",
    "        country.append(weather_json[\"sys\"][\"country\"])\n",
    "        \n",
    "        print(f\"Getting {city}\\'s weather information(City #{city_no}).\" )\n",
    "    except KeyError:\n",
    "        print(f\"Can't find {city} (City #{city_no}) .\")"
   ]
  },
  {
   "cell_type": "code",
   "execution_count": 8,
   "metadata": {},
   "outputs": [],
   "source": [
    "#Putting city results into a dictionary\n",
    "city_dict = {'City': city_list, 'Lat': lat, 'Lng': lng, \"Max Temp\": max_temp, \"Humidity\": humidity, \"Cloudiness\": cloudiness, \"Wind Speed\": wind_speed, \"Country\": country}\n"
   ]
  },
  {
   "cell_type": "code",
   "execution_count": null,
   "metadata": {},
   "outputs": [],
   "source": [
    "#loading New Zealand"
   ]
  },
  {
   "cell_type": "code",
   "execution_count": 9,
   "metadata": {},
   "outputs": [],
   "source": [
    "#Putting city results into a csv\n",
    "\n",
    "zd = zip(*city_dict.values())\n",
    "#, encoding='utf-8'\n",
    "\n",
    "with open(\"weather_data/cities.csv\", 'w', encoding='utf-8') as file:\n",
    "    writer = csv.writer(file, delimiter=',', lineterminator = '\\n')\n",
    "    writer.writerow(city_dict.keys())\n",
    "    writer.writerows(zd)\n"
   ]
  },
  {
   "cell_type": "code",
   "execution_count": null,
   "metadata": {},
   "outputs": [],
   "source": [
    "#Extract for Barcelona"
   ]
  },
  {
   "cell_type": "code",
   "execution_count": 14,
   "metadata": {},
   "outputs": [],
   "source": [
    "barcelona_df = pd.read_csv(\"airbb_data/barcelona-airbb.csv\")\n",
    "\n",
    "barcelona = barcelona_df[['latitude', 'longitude']]"
   ]
  },
  {
   "cell_type": "code",
   "execution_count": 15,
   "metadata": {},
   "outputs": [
    {
     "data": {
      "text/html": [
       "<div>\n",
       "<style scoped>\n",
       "    .dataframe tbody tr th:only-of-type {\n",
       "        vertical-align: middle;\n",
       "    }\n",
       "\n",
       "    .dataframe tbody tr th {\n",
       "        vertical-align: top;\n",
       "    }\n",
       "\n",
       "    .dataframe thead th {\n",
       "        text-align: right;\n",
       "    }\n",
       "</style>\n",
       "<table border=\"1\" class=\"dataframe\">\n",
       "  <thead>\n",
       "    <tr style=\"text-align: right;\">\n",
       "      <th></th>\n",
       "      <th>latitude</th>\n",
       "      <th>longitude</th>\n",
       "    </tr>\n",
       "  </thead>\n",
       "  <tbody>\n",
       "    <tr>\n",
       "      <th>0</th>\n",
       "      <td>41.37973</td>\n",
       "      <td>2.17631</td>\n",
       "    </tr>\n",
       "    <tr>\n",
       "      <th>1</th>\n",
       "      <td>41.41291</td>\n",
       "      <td>2.22063</td>\n",
       "    </tr>\n",
       "    <tr>\n",
       "      <th>2</th>\n",
       "      <td>41.40566</td>\n",
       "      <td>2.17015</td>\n",
       "    </tr>\n",
       "    <tr>\n",
       "      <th>3</th>\n",
       "      <td>41.37916</td>\n",
       "      <td>2.17535</td>\n",
       "    </tr>\n",
       "    <tr>\n",
       "      <th>4</th>\n",
       "      <td>41.37978</td>\n",
       "      <td>2.17623</td>\n",
       "    </tr>\n",
       "  </tbody>\n",
       "</table>\n",
       "</div>"
      ],
      "text/plain": [
       "   latitude  longitude\n",
       "0  41.37973    2.17631\n",
       "1  41.41291    2.22063\n",
       "2  41.40566    2.17015\n",
       "3  41.37916    2.17535\n",
       "4  41.37978    2.17623"
      ]
     },
     "execution_count": 15,
     "metadata": {},
     "output_type": "execute_result"
    }
   ],
   "source": [
    "barcelona.head()"
   ]
  },
  {
   "cell_type": "code",
   "execution_count": 21,
   "metadata": {},
   "outputs": [
    {
     "name": "stderr",
     "output_type": "stream",
     "text": [
      "C:\\Users\\Beverly\\anaconda3\\envs\\case_python\\lib\\site-packages\\ipykernel_launcher.py:2: SettingWithCopyWarning: \n",
      "A value is trying to be set on a copy of a slice from a DataFrame.\n",
      "Try using .loc[row_indexer,col_indexer] = value instead\n",
      "\n",
      "See the caveats in the documentation: https://pandas.pydata.org/pandas-docs/stable/user_guide/indexing.html#returning-a-view-versus-a-copy\n",
      "  \n"
     ]
    }
   ],
   "source": [
    "#Using the citipy package to find the nearest city to the lat and long provided\n",
    "barcelona['city'] = barcelona.apply(lambda row: citipy.nearest_city(row.latitude, row.longitude).city_name, axis = 1)"
   ]
  },
  {
   "cell_type": "code",
   "execution_count": 22,
   "metadata": {},
   "outputs": [
    {
     "data": {
      "text/html": [
       "<div>\n",
       "<style scoped>\n",
       "    .dataframe tbody tr th:only-of-type {\n",
       "        vertical-align: middle;\n",
       "    }\n",
       "\n",
       "    .dataframe tbody tr th {\n",
       "        vertical-align: top;\n",
       "    }\n",
       "\n",
       "    .dataframe thead th {\n",
       "        text-align: right;\n",
       "    }\n",
       "</style>\n",
       "<table border=\"1\" class=\"dataframe\">\n",
       "  <thead>\n",
       "    <tr style=\"text-align: right;\">\n",
       "      <th></th>\n",
       "      <th>latitude</th>\n",
       "      <th>longitude</th>\n",
       "      <th>city</th>\n",
       "    </tr>\n",
       "  </thead>\n",
       "  <tbody>\n",
       "    <tr>\n",
       "      <th>0</th>\n",
       "      <td>41.37973</td>\n",
       "      <td>2.17631</td>\n",
       "      <td>barcelona</td>\n",
       "    </tr>\n",
       "    <tr>\n",
       "      <th>1</th>\n",
       "      <td>41.41291</td>\n",
       "      <td>2.22063</td>\n",
       "      <td>badalona</td>\n",
       "    </tr>\n",
       "    <tr>\n",
       "      <th>2</th>\n",
       "      <td>41.40566</td>\n",
       "      <td>2.17015</td>\n",
       "      <td>barcelona</td>\n",
       "    </tr>\n",
       "    <tr>\n",
       "      <th>3</th>\n",
       "      <td>41.37916</td>\n",
       "      <td>2.17535</td>\n",
       "      <td>barcelona</td>\n",
       "    </tr>\n",
       "    <tr>\n",
       "      <th>4</th>\n",
       "      <td>41.37978</td>\n",
       "      <td>2.17623</td>\n",
       "      <td>barcelona</td>\n",
       "    </tr>\n",
       "  </tbody>\n",
       "</table>\n",
       "</div>"
      ],
      "text/plain": [
       "   latitude  longitude       city\n",
       "0  41.37973    2.17631  barcelona\n",
       "1  41.41291    2.22063   badalona\n",
       "2  41.40566    2.17015  barcelona\n",
       "3  41.37916    2.17535  barcelona\n",
       "4  41.37978    2.17623  barcelona"
      ]
     },
     "execution_count": 22,
     "metadata": {},
     "output_type": "execute_result"
    }
   ],
   "source": [
    "barcelona.head()"
   ]
  },
  {
   "cell_type": "code",
   "execution_count": 24,
   "metadata": {},
   "outputs": [
    {
     "data": {
      "text/html": [
       "<div>\n",
       "<style scoped>\n",
       "    .dataframe tbody tr th:only-of-type {\n",
       "        vertical-align: middle;\n",
       "    }\n",
       "\n",
       "    .dataframe tbody tr th {\n",
       "        vertical-align: top;\n",
       "    }\n",
       "\n",
       "    .dataframe thead th {\n",
       "        text-align: right;\n",
       "    }\n",
       "</style>\n",
       "<table border=\"1\" class=\"dataframe\">\n",
       "  <thead>\n",
       "    <tr style=\"text-align: right;\">\n",
       "      <th></th>\n",
       "      <th>city</th>\n",
       "    </tr>\n",
       "  </thead>\n",
       "  <tbody>\n",
       "    <tr>\n",
       "      <th>0</th>\n",
       "      <td>badalona</td>\n",
       "    </tr>\n",
       "    <tr>\n",
       "      <th>1</th>\n",
       "      <td>barcelona</td>\n",
       "    </tr>\n",
       "    <tr>\n",
       "      <th>2</th>\n",
       "      <td>el prat de llobregat</td>\n",
       "    </tr>\n",
       "    <tr>\n",
       "      <th>3</th>\n",
       "      <td>ripollet</td>\n",
       "    </tr>\n",
       "    <tr>\n",
       "      <th>4</th>\n",
       "      <td>sant cugat del valles</td>\n",
       "    </tr>\n",
       "    <tr>\n",
       "      <th>5</th>\n",
       "      <td>sant just desvern</td>\n",
       "    </tr>\n",
       "  </tbody>\n",
       "</table>\n",
       "</div>"
      ],
      "text/plain": [
       "                    city\n",
       "0               badalona\n",
       "1              barcelona\n",
       "2   el prat de llobregat\n",
       "3               ripollet\n",
       "4  sant cugat del valles\n",
       "5      sant just desvern"
      ]
     },
     "execution_count": 24,
     "metadata": {},
     "output_type": "execute_result"
    }
   ],
   "source": [
    "#Grouping by city to remove duplicates\n",
    "\n",
    "barcelona_cities = barcelona[['city']].groupby(['city'])\n",
    "barcelona_cities_df = barcelona_cities.sum()\n",
    "barcelona_cities_df.reset_index(level=0, inplace=True)\n",
    "barcelona_cities_df"
   ]
  },
  {
   "cell_type": "code",
   "execution_count": 25,
   "metadata": {},
   "outputs": [
    {
     "data": {
      "text/plain": [
       "['badalona',\n",
       " 'barcelona',\n",
       " 'el prat de llobregat',\n",
       " 'ripollet',\n",
       " 'sant cugat del valles',\n",
       " 'sant just desvern']"
      ]
     },
     "execution_count": 25,
     "metadata": {},
     "output_type": "execute_result"
    }
   ],
   "source": [
    "#Transforming our city series into a city list to use with the api\n",
    "\n",
    "bn_city = barcelona_cities_df['city']\n",
    "bn_city\n",
    "cities = bn_city.values.tolist()\n",
    "cities"
   ]
  },
  {
   "cell_type": "code",
   "execution_count": 26,
   "metadata": {},
   "outputs": [
    {
     "name": "stdout",
     "output_type": "stream",
     "text": [
      "Getting badalona's weather information(City #1).\n",
      "Getting barcelona's weather information(City #2).\n",
      "Getting el prat de llobregat's weather information(City #3).\n",
      "Getting ripollet's weather information(City #4).\n",
      "Getting sant cugat del valles's weather information(City #5).\n",
      "Getting sant just desvern's weather information(City #6).\n"
     ]
    }
   ],
   "source": [
    "#Open weather information\n",
    "url = \"http://api.openweathermap.org/data/2.5/weather?\"\n",
    "units = \"imperial\"\n",
    "\n",
    "\n",
    "\n",
    "#field_names\n",
    "#empty lists for the fields of our future city weather csv\n",
    "city_list = []\n",
    "lat = []\n",
    "lng = []\n",
    "max_temp = []\n",
    "humidity = []\n",
    "cloudiness = []\n",
    "wind_speed = []\n",
    "country = []\n",
    "\n",
    "for city in cities:\n",
    "    \n",
    "    #Get the city's number\n",
    "    city_no = cities.index(city) + 1\n",
    "    \n",
    "    try:\n",
    "        query_url = f\"{url}appid={weather_api_key}&q={city}&units={units}\"\n",
    "        \n",
    "        \n",
    "\n",
    "        # Get weather data\n",
    "        weather_response = requests.get(query_url)\n",
    "        weather_json = weather_response.json()\n",
    "\n",
    "        #Put the city's weather into lists\n",
    "        city_list.append(weather_json[\"name\"])\n",
    "        lat.append(weather_json[\"coord\"][\"lat\"])\n",
    "        lng.append(weather_json[\"coord\"][\"lon\"])\n",
    "        max_temp.append(weather_json[\"main\"][\"temp_max\"])\n",
    "        humidity.append(weather_json[\"main\"][\"humidity\"])\n",
    "        cloudiness.append(weather_json[\"clouds\"][\"all\"])\n",
    "        wind_speed.append(weather_json[\"wind\"][\"speed\"])\n",
    "        country.append(weather_json[\"sys\"][\"country\"])\n",
    "        \n",
    "        print(f\"Getting {city}\\'s weather information(City #{city_no}).\" )\n",
    "    except KeyError:\n",
    "        print(f\"Can't find {city} (City #{city_no}) .\")"
   ]
  },
  {
   "cell_type": "code",
   "execution_count": 27,
   "metadata": {},
   "outputs": [],
   "source": [
    "#Putting city results into a dictionary\n",
    "city_dict = {'City': city_list, 'Lat': lat, 'Lng': lng, \"Max Temp\": max_temp, \"Humidity\": humidity, \"Cloudiness\": cloudiness, \"Wind Speed\": wind_speed, \"Country\": country}\n"
   ]
  },
  {
   "cell_type": "code",
   "execution_count": null,
   "metadata": {},
   "outputs": [],
   "source": [
    "#Loading Barcelona"
   ]
  },
  {
   "cell_type": "code",
   "execution_count": 30,
   "metadata": {},
   "outputs": [],
   "source": [
    "#Appending city results to csv\n",
    "\n",
    "zd = zip(*city_dict.values())\n",
    "#, encoding='utf-8'\n",
    "\n",
    "with open(\"weather_data/cities.csv\", 'a', encoding='utf-8') as file:\n",
    "    writer = csv.writer(file, delimiter=',', lineterminator = '\\n')\n",
    "    #writer.writerow(city_dict.keys())\n",
    "    writer.writerows(zd)\n"
   ]
  },
  {
   "cell_type": "code",
   "execution_count": 31,
   "metadata": {},
   "outputs": [],
   "source": [
    "#Dataframe of our city data\n",
    "#city_df = pd.read_csv(\"weather_data/cities.csv\")\n",
    "#city_df.head()"
   ]
  },
  {
   "cell_type": "code",
   "execution_count": null,
   "metadata": {},
   "outputs": [],
   "source": [
    "#Extracting Sydney data"
   ]
  },
  {
   "cell_type": "code",
   "execution_count": null,
   "metadata": {},
   "outputs": [],
   "source": [
    "sydney_df = pd.read_csv(\"airbb_data/sydney_aus_airbb.csv\")\n",
    "\n",
    "sydney = sydney_df[['latitude', 'longitude']]"
   ]
  },
  {
   "cell_type": "code",
   "execution_count": null,
   "metadata": {},
   "outputs": [],
   "source": [
    "sydney.head()"
   ]
  },
  {
   "cell_type": "code",
   "execution_count": null,
   "metadata": {},
   "outputs": [],
   "source": [
    "#Using the citipy package to find the nearest city to the lat and long provided\n",
    "sydney['city'] = sydney.apply(lambda row: citipy.nearest_city(row.latitude, row.longitude).city_name, axis = 1)"
   ]
  },
  {
   "cell_type": "code",
   "execution_count": null,
   "metadata": {},
   "outputs": [],
   "source": [
    "sydney.head()"
   ]
  },
  {
   "cell_type": "code",
   "execution_count": null,
   "metadata": {},
   "outputs": [],
   "source": [
    "#Grouping by city to remove duplicates\n",
    "\n",
    "sydney_cities = sydney[['city']].groupby(['city'])\n",
    "sydney_cities_df = sydney_cities.sum()\n",
    "sydney_cities_df.reset_index(level=0, inplace=True)\n",
    "sydney_cities_df"
   ]
  },
  {
   "cell_type": "code",
   "execution_count": null,
   "metadata": {},
   "outputs": [],
   "source": [
    "#Transforming our city series into a city list to use with the api\n",
    "\n",
    "sy_city = sydney_cities_df['city']\n",
    "sy_city\n",
    "cities = sy_city.values.tolist()\n",
    "cities"
   ]
  },
  {
   "cell_type": "code",
   "execution_count": null,
   "metadata": {},
   "outputs": [],
   "source": [
    "#Open weather information\n",
    "url = \"http://api.openweathermap.org/data/2.5/weather?\"\n",
    "units = \"imperial\"\n",
    "\n",
    "\n",
    "\n",
    "#field_names\n",
    "#empty lists for the fields of our future city weather csv\n",
    "city_list = []\n",
    "lat = []\n",
    "lng = []\n",
    "max_temp = []\n",
    "humidity = []\n",
    "cloudiness = []\n",
    "wind_speed = []\n",
    "country = []\n",
    "\n",
    "for city in cities:\n",
    "    \n",
    "    #Get the city's number\n",
    "    city_no = cities.index(city) + 1\n",
    "    \n",
    "    try:\n",
    "        query_url = f\"{url}appid={weather_api_key}&q={city}&units={units}\"\n",
    "        \n",
    "        \n",
    "\n",
    "        # Get weather data\n",
    "        weather_response = requests.get(query_url)\n",
    "        weather_json = weather_response.json()\n",
    "\n",
    "        #Put the city's weather into lists\n",
    "        city_list.append(weather_json[\"name\"])\n",
    "        lat.append(weather_json[\"coord\"][\"lat\"])\n",
    "        lng.append(weather_json[\"coord\"][\"lon\"])\n",
    "        max_temp.append(weather_json[\"main\"][\"temp_max\"])\n",
    "        humidity.append(weather_json[\"main\"][\"humidity\"])\n",
    "        cloudiness.append(weather_json[\"clouds\"][\"all\"])\n",
    "        wind_speed.append(weather_json[\"wind\"][\"speed\"])\n",
    "        country.append(weather_json[\"sys\"][\"country\"])\n",
    "        \n",
    "        print(f\"Getting {city}\\'s weather information(City #{city_no}).\" )\n",
    "    except KeyError:\n",
    "        print(f\"Can't find {city} (City #{city_no}) .\")"
   ]
  },
  {
   "cell_type": "code",
   "execution_count": null,
   "metadata": {},
   "outputs": [],
   "source": [
    "#Putting city results into a dictionary\n",
    "city_dict = {'City': city_list, 'Lat': lat, 'Lng': lng, \"Max Temp\": max_temp, \"Humidity\": humidity, \"Cloudiness\": cloudiness, \"Wind Speed\": wind_speed, \"Country\": country}\n"
   ]
  },
  {
   "cell_type": "code",
   "execution_count": null,
   "metadata": {},
   "outputs": [],
   "source": [
    "#Loading Sydney"
   ]
  },
  {
   "cell_type": "code",
   "execution_count": null,
   "metadata": {},
   "outputs": [],
   "source": [
    "#Appending city results to csv\n",
    "\n",
    "zd = zip(*city_dict.values())\n",
    "#, encoding='utf-8'\n",
    "\n",
    "with open(\"weather_data/cities.csv\", 'a', encoding='utf-8') as file:\n",
    "    writer = csv.writer(file, delimiter=',', lineterminator = '\\n')\n",
    "    #writer.writerow(city_dict.keys())\n",
    "    writer.writerows(zd)\n"
   ]
  },
  {
   "cell_type": "code",
   "execution_count": null,
   "metadata": {},
   "outputs": [],
   "source": []
  },
  {
   "cell_type": "code",
   "execution_count": null,
   "metadata": {},
   "outputs": [],
   "source": [
    "#Extracting Thailand data"
   ]
  },
  {
   "cell_type": "code",
   "execution_count": null,
   "metadata": {},
   "outputs": [],
   "source": [
    "thailand_df = pd.read_csv(\"airbb_data/thailand.csv\")\n",
    "\n",
    "thailand = thailand_df[['latitude', 'longitude']]"
   ]
  },
  {
   "cell_type": "code",
   "execution_count": null,
   "metadata": {},
   "outputs": [],
   "source": [
    "thailand.head()"
   ]
  },
  {
   "cell_type": "code",
   "execution_count": null,
   "metadata": {},
   "outputs": [],
   "source": [
    "#Using the citipy package to find the nearest city to the lat and long provided\n",
    "thailand['city'] = thailand.apply(lambda row: citipy.nearest_city(row.latitude, row.longitude).city_name, axis = 1)"
   ]
  },
  {
   "cell_type": "code",
   "execution_count": null,
   "metadata": {},
   "outputs": [],
   "source": [
    "thailand.head()"
   ]
  },
  {
   "cell_type": "code",
   "execution_count": null,
   "metadata": {},
   "outputs": [],
   "source": [
    "#Grouping by city to remove duplicates\n",
    "\n",
    "thailand_cities = thailand[['city']].groupby(['city'])\n",
    "thailand_cities_df = thailand_cities.sum()\n",
    "thailand_cities_df.reset_index(level=0, inplace=True)\n",
    "thailand_cities_df"
   ]
  },
  {
   "cell_type": "code",
   "execution_count": null,
   "metadata": {},
   "outputs": [],
   "source": [
    "#Transforming our city series into a city list to use with the api\n",
    "\n",
    "td_city = thailand_cities_df['city']\n",
    "td_city\n",
    "cities = td_city.values.tolist()\n",
    "cities"
   ]
  },
  {
   "cell_type": "code",
   "execution_count": null,
   "metadata": {},
   "outputs": [],
   "source": [
    "#Open weather information\n",
    "url = \"http://api.openweathermap.org/data/2.5/weather?\"\n",
    "units = \"imperial\"\n",
    "\n",
    "\n",
    "\n",
    "#field_names\n",
    "#empty lists for the fields of our future city weather csv\n",
    "city_list = []\n",
    "lat = []\n",
    "lng = []\n",
    "max_temp = []\n",
    "humidity = []\n",
    "cloudiness = []\n",
    "wind_speed = []\n",
    "country = []\n",
    "\n",
    "for city in cities:\n",
    "    \n",
    "    #Get the city's number\n",
    "    city_no = cities.index(city) + 1\n",
    "    \n",
    "    try:\n",
    "        query_url = f\"{url}appid={weather_api_key}&q={city}&units={units}\"\n",
    "        \n",
    "        \n",
    "\n",
    "        # Get weather data\n",
    "        weather_response = requests.get(query_url)\n",
    "        weather_json = weather_response.json()\n",
    "\n",
    "        #Put the city's weather into lists\n",
    "        city_list.append(weather_json[\"name\"])\n",
    "        lat.append(weather_json[\"coord\"][\"lat\"])\n",
    "        lng.append(weather_json[\"coord\"][\"lon\"])\n",
    "        max_temp.append(weather_json[\"main\"][\"temp_max\"])\n",
    "        humidity.append(weather_json[\"main\"][\"humidity\"])\n",
    "        cloudiness.append(weather_json[\"clouds\"][\"all\"])\n",
    "        wind_speed.append(weather_json[\"wind\"][\"speed\"])\n",
    "        country.append(weather_json[\"sys\"][\"country\"])\n",
    "        \n",
    "        print(f\"Getting {city}\\'s weather information(City #{city_no}).\" )\n",
    "    except KeyError:\n",
    "        print(f\"Can't find {city} (City #{city_no}) .\")"
   ]
  },
  {
   "cell_type": "code",
   "execution_count": null,
   "metadata": {},
   "outputs": [],
   "source": [
    "#Putting city results into a dictionary\n",
    "city_dict = {'City': city_list, 'Lat': lat, 'Lng': lng, \"Max Temp\": max_temp, \"Humidity\": humidity, \"Cloudiness\": cloudiness, \"Wind Speed\": wind_speed, \"Country\": country}\n"
   ]
  },
  {
   "cell_type": "code",
   "execution_count": null,
   "metadata": {},
   "outputs": [],
   "source": [
    "#Loading Thailand"
   ]
  },
  {
   "cell_type": "code",
   "execution_count": null,
   "metadata": {},
   "outputs": [],
   "source": [
    "#Appending city results to csv\n",
    "\n",
    "zd = zip(*city_dict.values())\n",
    "#, encoding='utf-8'\n",
    "\n",
    "with open(\"weather_data/cities.csv\", 'a', encoding='utf-8') as file:\n",
    "    writer = csv.writer(file, delimiter=',', lineterminator = '\\n')\n",
    "    #writer.writerow(city_dict.keys())\n",
    "    writer.writerows(zd)\n"
   ]
  },
  {
   "cell_type": "code",
   "execution_count": null,
   "metadata": {},
   "outputs": [],
   "source": []
  },
  {
   "cell_type": "code",
   "execution_count": null,
   "metadata": {},
   "outputs": [],
   "source": [
    "#Extracting Venice data"
   ]
  },
  {
   "cell_type": "code",
   "execution_count": null,
   "metadata": {},
   "outputs": [],
   "source": [
    "venice_df = pd.read_csv(\"airbb_data/venice-airbb.csv\")\n",
    "\n",
    "venice = venice_df[['latitude', 'longitude']]"
   ]
  },
  {
   "cell_type": "code",
   "execution_count": null,
   "metadata": {},
   "outputs": [],
   "source": [
    "venice.head()"
   ]
  },
  {
   "cell_type": "code",
   "execution_count": null,
   "metadata": {},
   "outputs": [],
   "source": [
    "#Using the citipy package to find the nearest city to the lat and long provided\n",
    "venice['city'] = venice.apply(lambda row: citipy.nearest_city(row.latitude, row.longitude).city_name, axis = 1)"
   ]
  },
  {
   "cell_type": "code",
   "execution_count": null,
   "metadata": {},
   "outputs": [],
   "source": [
    "venice.head()"
   ]
  },
  {
   "cell_type": "code",
   "execution_count": null,
   "metadata": {},
   "outputs": [],
   "source": [
    "#Grouping by city to remove duplicates\n",
    "\n",
    "venice_cities = venice[['city']].groupby(['city'])\n",
    "venice_cities_df = venice_cities.sum()\n",
    "venice_cities_df.reset_index(level=0, inplace=True)\n",
    "venice_cities_df"
   ]
  },
  {
   "cell_type": "code",
   "execution_count": null,
   "metadata": {},
   "outputs": [],
   "source": [
    "#Transforming our city series into a city list to use with the api\n",
    "\n",
    "vn_city = venice_cities_df['city']\n",
    "vn_city\n",
    "cities = vn_city.values.tolist()\n",
    "cities"
   ]
  },
  {
   "cell_type": "code",
   "execution_count": null,
   "metadata": {},
   "outputs": [],
   "source": [
    "#Open weather information\n",
    "url = \"http://api.openweathermap.org/data/2.5/weather?\"\n",
    "units = \"imperial\"\n",
    "\n",
    "\n",
    "\n",
    "#field_names\n",
    "#empty lists for the fields of our future city weather csv\n",
    "city_list = []\n",
    "lat = []\n",
    "lng = []\n",
    "max_temp = []\n",
    "humidity = []\n",
    "cloudiness = []\n",
    "wind_speed = []\n",
    "country = []\n",
    "\n",
    "for city in cities:\n",
    "    \n",
    "    #Get the city's number\n",
    "    city_no = cities.index(city) + 1\n",
    "    \n",
    "    try:\n",
    "        query_url = f\"{url}appid={weather_api_key}&q={city}&units={units}\"\n",
    "        \n",
    "        \n",
    "\n",
    "        # Get weather data\n",
    "        weather_response = requests.get(query_url)\n",
    "        weather_json = weather_response.json()\n",
    "\n",
    "        #Put the city's weather into lists\n",
    "        city_list.append(weather_json[\"name\"])\n",
    "        lat.append(weather_json[\"coord\"][\"lat\"])\n",
    "        lng.append(weather_json[\"coord\"][\"lon\"])\n",
    "        max_temp.append(weather_json[\"main\"][\"temp_max\"])\n",
    "        humidity.append(weather_json[\"main\"][\"humidity\"])\n",
    "        cloudiness.append(weather_json[\"clouds\"][\"all\"])\n",
    "        wind_speed.append(weather_json[\"wind\"][\"speed\"])\n",
    "        country.append(weather_json[\"sys\"][\"country\"])\n",
    "        \n",
    "        print(f\"Getting {city}\\'s weather information(City #{city_no}).\" )\n",
    "    except KeyError:\n",
    "        print(f\"Can't find {city} (City #{city_no}) .\")"
   ]
  },
  {
   "cell_type": "code",
   "execution_count": null,
   "metadata": {},
   "outputs": [],
   "source": [
    "#Putting city results into a dictionary\n",
    "city_dict = {'City': city_list, 'Lat': lat, 'Lng': lng, \"Max Temp\": max_temp, \"Humidity\": humidity, \"Cloudiness\": cloudiness, \"Wind Speed\": wind_speed, \"Country\": country}\n"
   ]
  },
  {
   "cell_type": "code",
   "execution_count": null,
   "metadata": {},
   "outputs": [],
   "source": [
    "#Loading Venice"
   ]
  },
  {
   "cell_type": "code",
   "execution_count": null,
   "metadata": {},
   "outputs": [],
   "source": [
    "#Appending city results to csv\n",
    "\n",
    "zd = zip(*city_dict.values())\n",
    "#, encoding='utf-8'\n",
    "\n",
    "with open(\"weather_data/cities.csv\", 'a', encoding='utf-8') as file:\n",
    "    writer = csv.writer(file, delimiter=',', lineterminator = '\\n')\n",
    "    #writer.writerow(city_dict.keys())\n",
    "    writer.writerows(zd)\n"
   ]
  },
  {
   "cell_type": "code",
   "execution_count": null,
   "metadata": {},
   "outputs": [],
   "source": []
  }
 ],
 "metadata": {
  "kernelspec": {
   "display_name": "Python 3",
   "language": "python",
   "name": "python3"
  },
  "language_info": {
   "codemirror_mode": {
    "name": "ipython",
    "version": 3
   },
   "file_extension": ".py",
   "mimetype": "text/x-python",
   "name": "python",
   "nbconvert_exporter": "python",
   "pygments_lexer": "ipython3",
   "version": "3.6.10"
  }
 },
 "nbformat": 4,
 "nbformat_minor": 4
}
