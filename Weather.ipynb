{
 "cells": [
  {
   "cell_type": "code",
   "execution_count": null,
   "metadata": {},
   "outputs": [],
   "source": [
    "#Extracting data from Open Weather api. We need to first determine (from our airbnb csv's)\n",
    "# what cities to extract from OpenWeather api, because we can't extract the whole planet of cities"
   ]
  },
  {
   "cell_type": "code",
   "execution_count": null,
   "metadata": {},
   "outputs": [],
   "source": [
    "#Extracting cities from our New Zealand spreadsheet"
   ]
  },
  {
   "cell_type": "code",
   "execution_count": 13,
   "metadata": {},
   "outputs": [],
   "source": [
    "# Dependencies and Setup\n",
    "import pandas as pd\n",
    "import numpy as np\n",
    "import requests\n",
    "import time\n",
    "import json\n",
    "import csv\n",
    "\n",
    "# Incorporated citipy to determine city based on latitude and longitude\n",
    "from citipy import citipy\n",
    "\n",
    "# Import API key\n",
    "from api_keys import weather_api_key\n",
    "\n",
    "#Import Data files:\n",
    "new_zealand_df = pd.read_csv(\"airbb_data/new_zealand.csv\")\n",
    "\n",
    "#Grab lat and long b/c we will use them to find the cities later\n",
    "new_zealand = new_zealand_df[['latitude', 'longitude']]"
   ]
  },
  {
   "cell_type": "code",
   "execution_count": 14,
   "metadata": {},
   "outputs": [
    {
     "data": {
      "text/html": [
       "<div>\n",
       "<style scoped>\n",
       "    .dataframe tbody tr th:only-of-type {\n",
       "        vertical-align: middle;\n",
       "    }\n",
       "\n",
       "    .dataframe tbody tr th {\n",
       "        vertical-align: top;\n",
       "    }\n",
       "\n",
       "    .dataframe thead th {\n",
       "        text-align: right;\n",
       "    }\n",
       "</style>\n",
       "<table border=\"1\" class=\"dataframe\">\n",
       "  <thead>\n",
       "    <tr style=\"text-align: right;\">\n",
       "      <th></th>\n",
       "      <th>latitude</th>\n",
       "      <th>longitude</th>\n",
       "    </tr>\n",
       "  </thead>\n",
       "  <tbody>\n",
       "    <tr>\n",
       "      <th>0</th>\n",
       "      <td>-38.13493</td>\n",
       "      <td>178.31671</td>\n",
       "    </tr>\n",
       "    <tr>\n",
       "      <th>1</th>\n",
       "      <td>-39.45078</td>\n",
       "      <td>173.84357</td>\n",
       "    </tr>\n",
       "    <tr>\n",
       "      <th>2</th>\n",
       "      <td>-38.99097</td>\n",
       "      <td>175.80902</td>\n",
       "    </tr>\n",
       "    <tr>\n",
       "      <th>3</th>\n",
       "      <td>-38.73298</td>\n",
       "      <td>177.58658</td>\n",
       "    </tr>\n",
       "    <tr>\n",
       "      <th>4</th>\n",
       "      <td>-37.67498</td>\n",
       "      <td>176.23216</td>\n",
       "    </tr>\n",
       "  </tbody>\n",
       "</table>\n",
       "</div>"
      ],
      "text/plain": [
       "   latitude  longitude\n",
       "0 -38.13493  178.31671\n",
       "1 -39.45078  173.84357\n",
       "2 -38.99097  175.80902\n",
       "3 -38.73298  177.58658\n",
       "4 -37.67498  176.23216"
      ]
     },
     "execution_count": 14,
     "metadata": {},
     "output_type": "execute_result"
    }
   ],
   "source": [
    "new_zealand.head()"
   ]
  },
  {
   "cell_type": "code",
   "execution_count": 15,
   "metadata": {},
   "outputs": [
    {
     "name": "stderr",
     "output_type": "stream",
     "text": [
      "C:\\Users\\Beverly\\anaconda3\\envs\\case_python\\lib\\site-packages\\ipykernel_launcher.py:2: SettingWithCopyWarning: \n",
      "A value is trying to be set on a copy of a slice from a DataFrame.\n",
      "Try using .loc[row_indexer,col_indexer] = value instead\n",
      "\n",
      "See the caveats in the documentation: https://pandas.pydata.org/pandas-docs/stable/user_guide/indexing.html#returning-a-view-versus-a-copy\n",
      "  \n"
     ]
    }
   ],
   "source": [
    "#Using the citipy package to find the nearest city to the lat and long provided\n",
    "new_zealand['city'] = new_zealand.apply(lambda row: citipy.nearest_city(row.latitude, row.longitude).city_name, axis = 1)"
   ]
  },
  {
   "cell_type": "code",
   "execution_count": 16,
   "metadata": {},
   "outputs": [
    {
     "name": "stderr",
     "output_type": "stream",
     "text": [
      "C:\\Users\\Beverly\\anaconda3\\envs\\case_python\\lib\\site-packages\\ipykernel_launcher.py:2: SettingWithCopyWarning: \n",
      "A value is trying to be set on a copy of a slice from a DataFrame.\n",
      "Try using .loc[row_indexer,col_indexer] = value instead\n",
      "\n",
      "See the caveats in the documentation: https://pandas.pydata.org/pandas-docs/stable/user_guide/indexing.html#returning-a-view-versus-a-copy\n",
      "  \n"
     ]
    }
   ],
   "source": [
    "#Using the citipy package to find the nearest city to the lat and long provided\n",
    "new_zealand['country'] = new_zealand.apply(lambda row: citipy.nearest_city(row.latitude, row.longitude).country_code, axis = 1)"
   ]
  },
  {
   "cell_type": "code",
   "execution_count": 18,
   "metadata": {},
   "outputs": [
    {
     "data": {
      "text/html": [
       "<div>\n",
       "<style scoped>\n",
       "    .dataframe tbody tr th:only-of-type {\n",
       "        vertical-align: middle;\n",
       "    }\n",
       "\n",
       "    .dataframe tbody tr th {\n",
       "        vertical-align: top;\n",
       "    }\n",
       "\n",
       "    .dataframe thead th {\n",
       "        text-align: right;\n",
       "    }\n",
       "</style>\n",
       "<table border=\"1\" class=\"dataframe\">\n",
       "  <thead>\n",
       "    <tr style=\"text-align: right;\">\n",
       "      <th></th>\n",
       "      <th>latitude</th>\n",
       "      <th>longitude</th>\n",
       "      <th>city</th>\n",
       "      <th>country</th>\n",
       "    </tr>\n",
       "  </thead>\n",
       "  <tbody>\n",
       "    <tr>\n",
       "      <th>0</th>\n",
       "      <td>-38.13493</td>\n",
       "      <td>178.31671</td>\n",
       "      <td>tolaga bay</td>\n",
       "      <td>nz</td>\n",
       "    </tr>\n",
       "    <tr>\n",
       "      <th>1</th>\n",
       "      <td>-39.45078</td>\n",
       "      <td>173.84357</td>\n",
       "      <td>opunake</td>\n",
       "      <td>nz</td>\n",
       "    </tr>\n",
       "    <tr>\n",
       "      <th>2</th>\n",
       "      <td>-38.99097</td>\n",
       "      <td>175.80902</td>\n",
       "      <td>turangi</td>\n",
       "      <td>nz</td>\n",
       "    </tr>\n",
       "    <tr>\n",
       "      <th>3</th>\n",
       "      <td>-38.73298</td>\n",
       "      <td>177.58658</td>\n",
       "      <td>manutuke</td>\n",
       "      <td>nz</td>\n",
       "    </tr>\n",
       "    <tr>\n",
       "      <th>4</th>\n",
       "      <td>-37.67498</td>\n",
       "      <td>176.23216</td>\n",
       "      <td>tauranga</td>\n",
       "      <td>nz</td>\n",
       "    </tr>\n",
       "  </tbody>\n",
       "</table>\n",
       "</div>"
      ],
      "text/plain": [
       "   latitude  longitude        city country\n",
       "0 -38.13493  178.31671  tolaga bay      nz\n",
       "1 -39.45078  173.84357     opunake      nz\n",
       "2 -38.99097  175.80902     turangi      nz\n",
       "3 -38.73298  177.58658    manutuke      nz\n",
       "4 -37.67498  176.23216    tauranga      nz"
      ]
     },
     "execution_count": 18,
     "metadata": {},
     "output_type": "execute_result"
    }
   ],
   "source": [
    "#There are new zealand listings that aren't actually in new zealand\n",
    "new_zealand = new_zealand[new_zealand.country == 'nz']\n",
    "new_zealand.head()"
   ]
  },
  {
   "cell_type": "code",
   "execution_count": 19,
   "metadata": {},
   "outputs": [
    {
     "data": {
      "text/html": [
       "<div>\n",
       "<style scoped>\n",
       "    .dataframe tbody tr th:only-of-type {\n",
       "        vertical-align: middle;\n",
       "    }\n",
       "\n",
       "    .dataframe tbody tr th {\n",
       "        vertical-align: top;\n",
       "    }\n",
       "\n",
       "    .dataframe thead th {\n",
       "        text-align: right;\n",
       "    }\n",
       "</style>\n",
       "<table border=\"1\" class=\"dataframe\">\n",
       "  <thead>\n",
       "    <tr style=\"text-align: right;\">\n",
       "      <th></th>\n",
       "      <th>city</th>\n",
       "    </tr>\n",
       "  </thead>\n",
       "  <tbody>\n",
       "    <tr>\n",
       "      <th>0</th>\n",
       "      <td>ahipara</td>\n",
       "    </tr>\n",
       "    <tr>\n",
       "      <th>1</th>\n",
       "      <td>amberley</td>\n",
       "    </tr>\n",
       "    <tr>\n",
       "      <th>2</th>\n",
       "      <td>athenree</td>\n",
       "    </tr>\n",
       "    <tr>\n",
       "      <th>3</th>\n",
       "      <td>auckland</td>\n",
       "    </tr>\n",
       "    <tr>\n",
       "      <th>4</th>\n",
       "      <td>balclutha</td>\n",
       "    </tr>\n",
       "    <tr>\n",
       "      <th>...</th>\n",
       "      <td>...</td>\n",
       "    </tr>\n",
       "    <tr>\n",
       "      <th>145</th>\n",
       "      <td>whangarei</td>\n",
       "    </tr>\n",
       "    <tr>\n",
       "      <th>146</th>\n",
       "      <td>whitianga</td>\n",
       "    </tr>\n",
       "    <tr>\n",
       "      <th>147</th>\n",
       "      <td>winton</td>\n",
       "    </tr>\n",
       "    <tr>\n",
       "      <th>148</th>\n",
       "      <td>woodend</td>\n",
       "    </tr>\n",
       "    <tr>\n",
       "      <th>149</th>\n",
       "      <td>wyndham</td>\n",
       "    </tr>\n",
       "  </tbody>\n",
       "</table>\n",
       "<p>150 rows × 1 columns</p>\n",
       "</div>"
      ],
      "text/plain": [
       "          city\n",
       "0      ahipara\n",
       "1     amberley\n",
       "2     athenree\n",
       "3     auckland\n",
       "4    balclutha\n",
       "..         ...\n",
       "145  whangarei\n",
       "146  whitianga\n",
       "147     winton\n",
       "148    woodend\n",
       "149    wyndham\n",
       "\n",
       "[150 rows x 1 columns]"
      ]
     },
     "execution_count": 19,
     "metadata": {},
     "output_type": "execute_result"
    }
   ],
   "source": [
    "#Grouping by city to remove duplicates\n",
    "\n",
    "new_zealand_cities = new_zealand[['city']].groupby(['city'])\n",
    "new_zealand_cities_df = new_zealand_cities.sum()\n",
    "new_zealand_cities_df.reset_index(level=0, inplace=True)\n",
    "new_zealand_cities_df"
   ]
  },
  {
   "cell_type": "code",
   "execution_count": 20,
   "metadata": {},
   "outputs": [
    {
     "data": {
      "text/html": [
       "<div>\n",
       "<style scoped>\n",
       "    .dataframe tbody tr th:only-of-type {\n",
       "        vertical-align: middle;\n",
       "    }\n",
       "\n",
       "    .dataframe tbody tr th {\n",
       "        vertical-align: top;\n",
       "    }\n",
       "\n",
       "    .dataframe thead th {\n",
       "        text-align: right;\n",
       "    }\n",
       "</style>\n",
       "<table border=\"1\" class=\"dataframe\">\n",
       "  <thead>\n",
       "    <tr style=\"text-align: right;\">\n",
       "      <th></th>\n",
       "      <th>country</th>\n",
       "    </tr>\n",
       "  </thead>\n",
       "  <tbody>\n",
       "    <tr>\n",
       "      <th>0</th>\n",
       "      <td>nz</td>\n",
       "    </tr>\n",
       "  </tbody>\n",
       "</table>\n",
       "</div>"
      ],
      "text/plain": [
       "  country\n",
       "0      nz"
      ]
     },
     "execution_count": 20,
     "metadata": {},
     "output_type": "execute_result"
    }
   ],
   "source": [
    "#Grouping by city to remove duplicates\n",
    "\n",
    "new_zealand_countries = new_zealand[['country']].groupby(['country'])\n",
    "new_zealand_countries_df = new_zealand_countries.sum()\n",
    "new_zealand_countries_df.reset_index(level=0, inplace=True)\n",
    "new_zealand_countries_df"
   ]
  },
  {
   "cell_type": "code",
   "execution_count": 21,
   "metadata": {},
   "outputs": [],
   "source": [
    "#Transforming our city series into a city list to use with the api\n",
    "\n",
    "nz_city = new_zealand_cities_df['city']\n",
    "#nz_city\n",
    "cities = nz_city.values.tolist()\n",
    "#cities"
   ]
  },
  {
   "cell_type": "code",
   "execution_count": 28,
   "metadata": {},
   "outputs": [],
   "source": [
    "#Transforming our city series into a city list to use with the api\n",
    "\n",
    "nz_country = new_zealand_countries_df['country']\n",
    "#nz_city\n",
    "country = nz_country[0]\n"
   ]
  },
  {
   "cell_type": "code",
   "execution_count": 29,
   "metadata": {},
   "outputs": [
    {
     "name": "stdout",
     "output_type": "stream",
     "text": [
      "Getting ahipara's weather information(City #1).\n",
      "Getting amberley's weather information(City #2).\n",
      "Getting athenree's weather information(City #3).\n",
      "Getting auckland's weather information(City #4).\n",
      "Getting balclutha's weather information(City #5).\n",
      "Getting bluff's weather information(City #6).\n",
      "Getting bombay's weather information(City #7).\n",
      "Getting brightwater's weather information(City #8).\n",
      "Getting bulls's weather information(City #9).\n",
      "Getting burnham's weather information(City #10).\n",
      "Getting christchurch's weather information(City #11).\n",
      "Getting clyde's weather information(City #12).\n",
      "Getting coromandel's weather information(City #13).\n",
      "Getting darfield's weather information(City #14).\n",
      "Getting dargaville's weather information(City #15).\n",
      "Getting dobson's weather information(City #16).\n",
      "Getting dunedin's weather information(City #17).\n",
      "Getting edendale's weather information(City #18).\n",
      "Getting edgecumbe's weather information(City #19).\n",
      "Getting eltham's weather information(City #20).\n",
      "Can't find fairlie (City #21) .\n",
      "Getting foxton's weather information(City #22).\n",
      "Getting gisborne's weather information(City #23).\n",
      "Getting greymouth's weather information(City #24).\n",
      "Getting hamilton's weather information(City #25).\n",
      "Getting hanmer springs's weather information(City #26).\n",
      "Getting hastings's weather information(City #27).\n",
      "Getting havelock's weather information(City #28).\n",
      "Getting hawera's weather information(City #29).\n",
      "Getting himatangi's weather information(City #30).\n",
      "Getting hokitika's weather information(City #31).\n",
      "Getting hunterville's weather information(City #32).\n",
      "Getting invercargill's weather information(City #33).\n",
      "Getting kaeo's weather information(City #34).\n",
      "Getting kaitangata's weather information(City #35).\n",
      "Getting kaiwaka's weather information(City #36).\n",
      "Can't find karamea (City #37) .\n",
      "Getting katikati's weather information(City #38).\n",
      "Getting kawakawa's weather information(City #39).\n",
      "Getting kawerau's weather information(City #40).\n",
      "Getting kawhia's weather information(City #41).\n",
      "Getting kerepehi's weather information(City #42).\n",
      "Getting kerikeri's weather information(City #43).\n",
      "Getting leeston's weather information(City #44).\n",
      "Getting levin's weather information(City #45).\n",
      "Getting lincoln's weather information(City #46).\n",
      "Getting lower hutt's weather information(City #47).\n",
      "Getting maketu's weather information(City #48).\n",
      "Getting mamaku's weather information(City #49).\n",
      "Getting manaia's weather information(City #50).\n",
      "Getting manutuke's weather information(City #51).\n",
      "Getting mapua's weather information(City #52).\n",
      "Getting masterton's weather information(City #53).\n",
      "Getting matata's weather information(City #54).\n",
      "Getting maungatapere's weather information(City #55).\n",
      "Getting maungaturoto's weather information(City #56).\n",
      "Getting methven's weather information(City #57).\n",
      "Getting milton's weather information(City #58).\n",
      "Getting moerewa's weather information(City #59).\n",
      "Getting murchison's weather information(City #60).\n",
      "Getting muriwai beach's weather information(City #61).\n",
      "Getting murupara's weather information(City #62).\n",
      "Getting napier's weather information(City #63).\n",
      "Getting nelson's weather information(City #64).\n",
      "Getting new plymouth's weather information(City #65).\n",
      "Getting ngatea's weather information(City #66).\n",
      "Getting ngunguru's weather information(City #67).\n",
      "Getting north shore's weather information(City #68).\n",
      "Getting ohaeawai's weather information(City #69).\n",
      "Getting okaihau's weather information(City #70).\n",
      "Getting okato's weather information(City #71).\n",
      "Getting opotiki's weather information(City #72).\n",
      "Getting opunake's weather information(City #73).\n",
      "Getting otaki's weather information(City #74).\n",
      "Getting otane's weather information(City #75).\n",
      "Getting otautau's weather information(City #76).\n",
      "Getting otorohanga's weather information(City #77).\n",
      "Getting outram's weather information(City #78).\n",
      "Getting oxford's weather information(City #79).\n",
      "Getting paengaroa's weather information(City #80).\n",
      "Getting paeroa's weather information(City #81).\n",
      "Getting paihia's weather information(City #82).\n",
      "Getting palmerston north's weather information(City #83).\n",
      "Getting parakai's weather information(City #84).\n",
      "Getting pareora's weather information(City #85).\n",
      "Getting patea's weather information(City #86).\n",
      "Getting piopio's weather information(City #87).\n",
      "Getting pleasant point's weather information(City #88).\n",
      "Getting porirua's weather information(City #89).\n",
      "Getting raglan's weather information(City #90).\n",
      "Getting rakaia's weather information(City #91).\n",
      "Getting ranfurly's weather information(City #92).\n",
      "Can't find reefton (City #93) .\n",
      "Getting reporoa's weather information(City #94).\n",
      "Getting riverton's weather information(City #95).\n",
      "Getting riwaka's weather information(City #96).\n",
      "Getting rolleston's weather information(City #97).\n",
      "Getting rongotea's weather information(City #98).\n",
      "Can't find ruatoria (City #99) .\n",
      "Getting russell's weather information(City #100).\n",
      "Getting sanson's weather information(City #101).\n",
      "Getting seddon's weather information(City #102).\n",
      "Getting sefton's weather information(City #103).\n",
      "Getting southbridge's weather information(City #104).\n",
      "Getting tairua's weather information(City #105).\n",
      "Getting takaka's weather information(City #106).\n",
      "Getting takapau's weather information(City #107).\n",
      "Can't find taneatua (City #108) .\n",
      "Getting taupo's weather information(City #109).\n",
      "Getting tauranga's weather information(City #110).\n",
      "Getting te anau's weather information(City #111).\n",
      "Getting te horo's weather information(City #112).\n",
      "Getting te karaka's weather information(City #113).\n",
      "Getting te kauwhata's weather information(City #114).\n",
      "Getting thames's weather information(City #115).\n",
      "Getting timaru's weather information(City #116).\n",
      "Getting tirau's weather information(City #117).\n",
      "Getting tokomaru's weather information(City #118).\n",
      "Getting tokoroa's weather information(City #119).\n",
      "Getting tolaga bay's weather information(City #120).\n",
      "Getting tuatapere's weather information(City #121).\n",
      "Getting turangi's weather information(City #122).\n",
      "Getting waharoa's weather information(City #123).\n",
      "Getting waihi's weather information(City #124).\n",
      "Getting waihi beach's weather information(City #125).\n",
      "Getting waikuku's weather information(City #126).\n",
      "Getting waimana's weather information(City #127).\n",
      "Getting waiouru's weather information(City #128).\n",
      "Getting waipawa's weather information(City #129).\n",
      "Getting wairoa's weather information(City #130).\n",
      "Getting waitakere's weather information(City #131).\n",
      "Getting waitara's weather information(City #132).\n",
      "Getting waitati's weather information(City #133).\n",
      "Getting waiuku's weather information(City #134).\n",
      "Getting wakefield's weather information(City #135).\n",
      "Getting wallacetown's weather information(City #136).\n",
      "Getting wanaka's weather information(City #137).\n",
      "Getting wanganui's weather information(City #138).\n",
      "Getting warkworth's weather information(City #139).\n",
      "Getting waverley's weather information(City #140).\n",
      "Getting wellington's weather information(City #141).\n",
      "Getting wellsford's weather information(City #142).\n",
      "Getting westport's weather information(City #143).\n",
      "Getting whakatane's weather information(City #144).\n",
      "Getting whangamata's weather information(City #145).\n",
      "Getting whangarei's weather information(City #146).\n",
      "Getting whitianga's weather information(City #147).\n",
      "Getting winton's weather information(City #148).\n",
      "Getting woodend's weather information(City #149).\n",
      "Getting wyndham's weather information(City #150).\n"
     ]
    }
   ],
   "source": [
    "#Open weather information\n",
    "url = \"http://api.openweathermap.org/data/2.5/weather?\"\n",
    "units = \"imperial\"\n",
    "\n",
    "\n",
    "\n",
    "#field_names\n",
    "#empty lists for the fields of our future city weather csv\n",
    "city_list = []\n",
    "lat = []\n",
    "lng = []\n",
    "max_temp = []\n",
    "humidity = []\n",
    "cloudiness = []\n",
    "wind_speed = []\n",
    "country_list = []\n",
    "\n",
    "for city in cities:\n",
    "    \n",
    "    #Get the city's number\n",
    "    city_no = cities.index(city) + 1\n",
    "    \n",
    "    try:\n",
    "        query_url = f\"{url}appid={weather_api_key}&q={city},{country}&units={units}\"\n",
    "        \n",
    "        \n",
    "\n",
    "        # Get weather data\n",
    "        weather_response = requests.get(query_url)\n",
    "        weather_json = weather_response.json()\n",
    "\n",
    "        #Put the city's weather into lists\n",
    "        city_list.append(weather_json[\"name\"])\n",
    "        lat.append(weather_json[\"coord\"][\"lat\"])\n",
    "        lng.append(weather_json[\"coord\"][\"lon\"])\n",
    "        max_temp.append(weather_json[\"main\"][\"temp_max\"])\n",
    "        humidity.append(weather_json[\"main\"][\"humidity\"])\n",
    "        cloudiness.append(weather_json[\"clouds\"][\"all\"])\n",
    "        wind_speed.append(weather_json[\"wind\"][\"speed\"])\n",
    "        country_list.append(weather_json[\"sys\"][\"country\"])\n",
    "        \n",
    "        print(f\"Getting {city}\\'s weather information(City #{city_no}).\" )\n",
    "    except KeyError:\n",
    "        print(f\"Can't find {city} (City #{city_no}) .\")"
   ]
  },
  {
   "cell_type": "code",
   "execution_count": 33,
   "metadata": {},
   "outputs": [],
   "source": [
    "#Putting city results into a dictionary\n",
    "city_dict = {'City': city_list, 'Lat': lat, 'Lng': lng, \"Max Temp\": max_temp, \"Humidity\": humidity, \"Cloudiness\": cloudiness, \"Wind Speed\": wind_speed, \"Country\": country_list}\n"
   ]
  },
  {
   "cell_type": "code",
   "execution_count": 31,
   "metadata": {},
   "outputs": [],
   "source": [
    "#loading New Zealand"
   ]
  },
  {
   "cell_type": "code",
   "execution_count": 35,
   "metadata": {},
   "outputs": [],
   "source": [
    "#Putting city results into a csv\n",
    "\n",
    "zd = zip(*city_dict.values())\n",
    "#, encoding='utf-8'\n",
    "\n",
    "with open(\"weather_data/cities.csv\", 'w', encoding='utf-8') as file:\n",
    "    writer = csv.writer(file, delimiter=',', lineterminator = '\\n')\n",
    "    writer.writerow(city_dict.keys())\n",
    "    writer.writerows(zd)\n"
   ]
  },
  {
   "cell_type": "code",
   "execution_count": null,
   "metadata": {},
   "outputs": [],
   "source": [
    "#Extract for Barcelona"
   ]
  },
  {
   "cell_type": "code",
   "execution_count": 36,
   "metadata": {},
   "outputs": [],
   "source": [
    "barcelona_df = pd.read_csv(\"airbb_data/barcelona-airbb.csv\")\n",
    "\n",
    "barcelona = barcelona_df[['latitude', 'longitude']]"
   ]
  },
  {
   "cell_type": "code",
   "execution_count": 37,
   "metadata": {},
   "outputs": [
    {
     "data": {
      "text/html": [
       "<div>\n",
       "<style scoped>\n",
       "    .dataframe tbody tr th:only-of-type {\n",
       "        vertical-align: middle;\n",
       "    }\n",
       "\n",
       "    .dataframe tbody tr th {\n",
       "        vertical-align: top;\n",
       "    }\n",
       "\n",
       "    .dataframe thead th {\n",
       "        text-align: right;\n",
       "    }\n",
       "</style>\n",
       "<table border=\"1\" class=\"dataframe\">\n",
       "  <thead>\n",
       "    <tr style=\"text-align: right;\">\n",
       "      <th></th>\n",
       "      <th>latitude</th>\n",
       "      <th>longitude</th>\n",
       "    </tr>\n",
       "  </thead>\n",
       "  <tbody>\n",
       "    <tr>\n",
       "      <th>0</th>\n",
       "      <td>41.37973</td>\n",
       "      <td>2.17631</td>\n",
       "    </tr>\n",
       "    <tr>\n",
       "      <th>1</th>\n",
       "      <td>41.41291</td>\n",
       "      <td>2.22063</td>\n",
       "    </tr>\n",
       "    <tr>\n",
       "      <th>2</th>\n",
       "      <td>41.40566</td>\n",
       "      <td>2.17015</td>\n",
       "    </tr>\n",
       "    <tr>\n",
       "      <th>3</th>\n",
       "      <td>41.37916</td>\n",
       "      <td>2.17535</td>\n",
       "    </tr>\n",
       "    <tr>\n",
       "      <th>4</th>\n",
       "      <td>41.37978</td>\n",
       "      <td>2.17623</td>\n",
       "    </tr>\n",
       "  </tbody>\n",
       "</table>\n",
       "</div>"
      ],
      "text/plain": [
       "   latitude  longitude\n",
       "0  41.37973    2.17631\n",
       "1  41.41291    2.22063\n",
       "2  41.40566    2.17015\n",
       "3  41.37916    2.17535\n",
       "4  41.37978    2.17623"
      ]
     },
     "execution_count": 37,
     "metadata": {},
     "output_type": "execute_result"
    }
   ],
   "source": [
    "barcelona.head()"
   ]
  },
  {
   "cell_type": "code",
   "execution_count": 38,
   "metadata": {},
   "outputs": [
    {
     "name": "stderr",
     "output_type": "stream",
     "text": [
      "C:\\Users\\Beverly\\anaconda3\\envs\\case_python\\lib\\site-packages\\ipykernel_launcher.py:2: SettingWithCopyWarning: \n",
      "A value is trying to be set on a copy of a slice from a DataFrame.\n",
      "Try using .loc[row_indexer,col_indexer] = value instead\n",
      "\n",
      "See the caveats in the documentation: https://pandas.pydata.org/pandas-docs/stable/user_guide/indexing.html#returning-a-view-versus-a-copy\n",
      "  \n"
     ]
    }
   ],
   "source": [
    "#Using the citipy package to find the nearest city to the lat and long provided\n",
    "barcelona['city'] = barcelona.apply(lambda row: citipy.nearest_city(row.latitude, row.longitude).city_name, axis = 1)"
   ]
  },
  {
   "cell_type": "code",
   "execution_count": 39,
   "metadata": {},
   "outputs": [
    {
     "name": "stderr",
     "output_type": "stream",
     "text": [
      "C:\\Users\\Beverly\\anaconda3\\envs\\case_python\\lib\\site-packages\\ipykernel_launcher.py:2: SettingWithCopyWarning: \n",
      "A value is trying to be set on a copy of a slice from a DataFrame.\n",
      "Try using .loc[row_indexer,col_indexer] = value instead\n",
      "\n",
      "See the caveats in the documentation: https://pandas.pydata.org/pandas-docs/stable/user_guide/indexing.html#returning-a-view-versus-a-copy\n",
      "  \n"
     ]
    }
   ],
   "source": [
    "#Using the citipy package to find the nearest city to the lat and long provided\n",
    "barcelona['country'] = barcelona.apply(lambda row: citipy.nearest_city(row.latitude, row.longitude).country_code, axis = 1)"
   ]
  },
  {
   "cell_type": "code",
   "execution_count": 40,
   "metadata": {},
   "outputs": [
    {
     "data": {
      "text/html": [
       "<div>\n",
       "<style scoped>\n",
       "    .dataframe tbody tr th:only-of-type {\n",
       "        vertical-align: middle;\n",
       "    }\n",
       "\n",
       "    .dataframe tbody tr th {\n",
       "        vertical-align: top;\n",
       "    }\n",
       "\n",
       "    .dataframe thead th {\n",
       "        text-align: right;\n",
       "    }\n",
       "</style>\n",
       "<table border=\"1\" class=\"dataframe\">\n",
       "  <thead>\n",
       "    <tr style=\"text-align: right;\">\n",
       "      <th></th>\n",
       "      <th>latitude</th>\n",
       "      <th>longitude</th>\n",
       "      <th>city</th>\n",
       "      <th>country</th>\n",
       "    </tr>\n",
       "  </thead>\n",
       "  <tbody>\n",
       "    <tr>\n",
       "      <th>0</th>\n",
       "      <td>41.37973</td>\n",
       "      <td>2.17631</td>\n",
       "      <td>barcelona</td>\n",
       "      <td>es</td>\n",
       "    </tr>\n",
       "    <tr>\n",
       "      <th>1</th>\n",
       "      <td>41.41291</td>\n",
       "      <td>2.22063</td>\n",
       "      <td>badalona</td>\n",
       "      <td>es</td>\n",
       "    </tr>\n",
       "    <tr>\n",
       "      <th>2</th>\n",
       "      <td>41.40566</td>\n",
       "      <td>2.17015</td>\n",
       "      <td>barcelona</td>\n",
       "      <td>es</td>\n",
       "    </tr>\n",
       "    <tr>\n",
       "      <th>3</th>\n",
       "      <td>41.37916</td>\n",
       "      <td>2.17535</td>\n",
       "      <td>barcelona</td>\n",
       "      <td>es</td>\n",
       "    </tr>\n",
       "    <tr>\n",
       "      <th>4</th>\n",
       "      <td>41.37978</td>\n",
       "      <td>2.17623</td>\n",
       "      <td>barcelona</td>\n",
       "      <td>es</td>\n",
       "    </tr>\n",
       "  </tbody>\n",
       "</table>\n",
       "</div>"
      ],
      "text/plain": [
       "   latitude  longitude       city country\n",
       "0  41.37973    2.17631  barcelona      es\n",
       "1  41.41291    2.22063   badalona      es\n",
       "2  41.40566    2.17015  barcelona      es\n",
       "3  41.37916    2.17535  barcelona      es\n",
       "4  41.37978    2.17623  barcelona      es"
      ]
     },
     "execution_count": 40,
     "metadata": {},
     "output_type": "execute_result"
    }
   ],
   "source": [
    "barcelona.head()"
   ]
  },
  {
   "cell_type": "code",
   "execution_count": 41,
   "metadata": {},
   "outputs": [
    {
     "data": {
      "text/html": [
       "<div>\n",
       "<style scoped>\n",
       "    .dataframe tbody tr th:only-of-type {\n",
       "        vertical-align: middle;\n",
       "    }\n",
       "\n",
       "    .dataframe tbody tr th {\n",
       "        vertical-align: top;\n",
       "    }\n",
       "\n",
       "    .dataframe thead th {\n",
       "        text-align: right;\n",
       "    }\n",
       "</style>\n",
       "<table border=\"1\" class=\"dataframe\">\n",
       "  <thead>\n",
       "    <tr style=\"text-align: right;\">\n",
       "      <th></th>\n",
       "      <th>city</th>\n",
       "    </tr>\n",
       "  </thead>\n",
       "  <tbody>\n",
       "    <tr>\n",
       "      <th>0</th>\n",
       "      <td>badalona</td>\n",
       "    </tr>\n",
       "    <tr>\n",
       "      <th>1</th>\n",
       "      <td>barcelona</td>\n",
       "    </tr>\n",
       "    <tr>\n",
       "      <th>2</th>\n",
       "      <td>el prat de llobregat</td>\n",
       "    </tr>\n",
       "    <tr>\n",
       "      <th>3</th>\n",
       "      <td>ripollet</td>\n",
       "    </tr>\n",
       "    <tr>\n",
       "      <th>4</th>\n",
       "      <td>sant cugat del valles</td>\n",
       "    </tr>\n",
       "    <tr>\n",
       "      <th>5</th>\n",
       "      <td>sant just desvern</td>\n",
       "    </tr>\n",
       "  </tbody>\n",
       "</table>\n",
       "</div>"
      ],
      "text/plain": [
       "                    city\n",
       "0               badalona\n",
       "1              barcelona\n",
       "2   el prat de llobregat\n",
       "3               ripollet\n",
       "4  sant cugat del valles\n",
       "5      sant just desvern"
      ]
     },
     "execution_count": 41,
     "metadata": {},
     "output_type": "execute_result"
    }
   ],
   "source": [
    "#Grouping by city to remove duplicates\n",
    "\n",
    "barcelona_cities = barcelona[['city']].groupby(['city'])\n",
    "barcelona_cities_df = barcelona_cities.sum()\n",
    "barcelona_cities_df.reset_index(level=0, inplace=True)\n",
    "barcelona_cities_df"
   ]
  },
  {
   "cell_type": "code",
   "execution_count": 42,
   "metadata": {},
   "outputs": [
    {
     "data": {
      "text/html": [
       "<div>\n",
       "<style scoped>\n",
       "    .dataframe tbody tr th:only-of-type {\n",
       "        vertical-align: middle;\n",
       "    }\n",
       "\n",
       "    .dataframe tbody tr th {\n",
       "        vertical-align: top;\n",
       "    }\n",
       "\n",
       "    .dataframe thead th {\n",
       "        text-align: right;\n",
       "    }\n",
       "</style>\n",
       "<table border=\"1\" class=\"dataframe\">\n",
       "  <thead>\n",
       "    <tr style=\"text-align: right;\">\n",
       "      <th></th>\n",
       "      <th>country</th>\n",
       "    </tr>\n",
       "  </thead>\n",
       "  <tbody>\n",
       "    <tr>\n",
       "      <th>0</th>\n",
       "      <td>es</td>\n",
       "    </tr>\n",
       "  </tbody>\n",
       "</table>\n",
       "</div>"
      ],
      "text/plain": [
       "  country\n",
       "0      es"
      ]
     },
     "execution_count": 42,
     "metadata": {},
     "output_type": "execute_result"
    }
   ],
   "source": [
    "#Grouping by city to remove duplicates\n",
    "\n",
    "barcelona_countries = barcelona[['country']].groupby(['country'])\n",
    "barcelona_countries_df = barcelona_countries.sum()\n",
    "barcelona_countries_df.reset_index(level=0, inplace=True)\n",
    "barcelona_countries_df"
   ]
  },
  {
   "cell_type": "code",
   "execution_count": 43,
   "metadata": {},
   "outputs": [
    {
     "data": {
      "text/plain": [
       "['badalona',\n",
       " 'barcelona',\n",
       " 'el prat de llobregat',\n",
       " 'ripollet',\n",
       " 'sant cugat del valles',\n",
       " 'sant just desvern']"
      ]
     },
     "execution_count": 43,
     "metadata": {},
     "output_type": "execute_result"
    }
   ],
   "source": [
    "#Transforming our city series into a city list to use with the api\n",
    "\n",
    "bn_city = barcelona_cities_df['city']\n",
    "bn_city\n",
    "cities = bn_city.values.tolist()\n",
    "cities"
   ]
  },
  {
   "cell_type": "code",
   "execution_count": 44,
   "metadata": {},
   "outputs": [],
   "source": [
    "#Transforming our city series into a city list to use with the api\n",
    "\n",
    "bn_country = barcelona_countries_df['country']\n",
    "#nz_city\n",
    "country = bn_country[0]\n"
   ]
  },
  {
   "cell_type": "code",
   "execution_count": 46,
   "metadata": {},
   "outputs": [
    {
     "name": "stdout",
     "output_type": "stream",
     "text": [
      "Getting badalona's weather information(City #1).\n",
      "Getting barcelona's weather information(City #2).\n",
      "Getting el prat de llobregat's weather information(City #3).\n",
      "Getting ripollet's weather information(City #4).\n",
      "Getting sant cugat del valles's weather information(City #5).\n",
      "Getting sant just desvern's weather information(City #6).\n"
     ]
    }
   ],
   "source": [
    "#Open weather information\n",
    "url = \"http://api.openweathermap.org/data/2.5/weather?\"\n",
    "units = \"imperial\"\n",
    "\n",
    "\n",
    "\n",
    "#field_names\n",
    "#empty lists for the fields of our future city weather csv\n",
    "city_list = []\n",
    "lat = []\n",
    "lng = []\n",
    "max_temp = []\n",
    "humidity = []\n",
    "cloudiness = []\n",
    "wind_speed = []\n",
    "country_list = []\n",
    "\n",
    "for city in cities:\n",
    "    \n",
    "    #Get the city's number\n",
    "    city_no = cities.index(city) + 1\n",
    "    \n",
    "    try:\n",
    "        query_url = f\"{url}appid={weather_api_key}&q={city},{country}&units={units}\"\n",
    "        \n",
    "        \n",
    "\n",
    "        # Get weather data\n",
    "        weather_response = requests.get(query_url)\n",
    "        weather_json = weather_response.json()\n",
    "\n",
    "        #Put the city's weather into lists\n",
    "        city_list.append(weather_json[\"name\"])\n",
    "        lat.append(weather_json[\"coord\"][\"lat\"])\n",
    "        lng.append(weather_json[\"coord\"][\"lon\"])\n",
    "        max_temp.append(weather_json[\"main\"][\"temp_max\"])\n",
    "        humidity.append(weather_json[\"main\"][\"humidity\"])\n",
    "        cloudiness.append(weather_json[\"clouds\"][\"all\"])\n",
    "        wind_speed.append(weather_json[\"wind\"][\"speed\"])\n",
    "        country_list.append(weather_json[\"sys\"][\"country\"])\n",
    "        \n",
    "        print(f\"Getting {city}\\'s weather information(City #{city_no}).\" )\n",
    "    except KeyError:\n",
    "        print(f\"Can't find {city} (City #{city_no}) .\")"
   ]
  },
  {
   "cell_type": "code",
   "execution_count": 47,
   "metadata": {},
   "outputs": [],
   "source": [
    "#Putting city results into a dictionary\n",
    "city_dict = {'City': city_list, 'Lat': lat, 'Lng': lng, \"Max Temp\": max_temp, \"Humidity\": humidity, \"Cloudiness\": cloudiness, \"Wind Speed\": wind_speed, \"Country\": country_list}\n"
   ]
  },
  {
   "cell_type": "code",
   "execution_count": null,
   "metadata": {},
   "outputs": [],
   "source": [
    "#Loading Barcelona"
   ]
  },
  {
   "cell_type": "code",
   "execution_count": 48,
   "metadata": {},
   "outputs": [],
   "source": [
    "#Appending city results to csv\n",
    "\n",
    "zd = zip(*city_dict.values())\n",
    "#, encoding='utf-8'\n",
    "\n",
    "with open(\"weather_data/cities.csv\", 'a', encoding='utf-8') as file:\n",
    "    writer = csv.writer(file, delimiter=',', lineterminator = '\\n')\n",
    "    #writer.writerow(city_dict.keys())\n",
    "    writer.writerows(zd)\n"
   ]
  },
  {
   "cell_type": "code",
   "execution_count": null,
   "metadata": {},
   "outputs": [],
   "source": [
    "#Dataframe of our city data\n",
    "#city_df = pd.read_csv(\"weather_data/cities.csv\")\n",
    "#city_df.head()"
   ]
  },
  {
   "cell_type": "code",
   "execution_count": null,
   "metadata": {},
   "outputs": [],
   "source": [
    "#Extracting Sydney data"
   ]
  },
  {
   "cell_type": "code",
   "execution_count": 61,
   "metadata": {},
   "outputs": [],
   "source": [
    "sydney_df = pd.read_csv(\"airbb_data/sydney_aus_airbb.csv\")\n",
    "\n",
    "sydney = sydney_df[['latitude', 'longitude']]"
   ]
  },
  {
   "cell_type": "code",
   "execution_count": 62,
   "metadata": {},
   "outputs": [
    {
     "data": {
      "text/html": [
       "<div>\n",
       "<style scoped>\n",
       "    .dataframe tbody tr th:only-of-type {\n",
       "        vertical-align: middle;\n",
       "    }\n",
       "\n",
       "    .dataframe tbody tr th {\n",
       "        vertical-align: top;\n",
       "    }\n",
       "\n",
       "    .dataframe thead th {\n",
       "        text-align: right;\n",
       "    }\n",
       "</style>\n",
       "<table border=\"1\" class=\"dataframe\">\n",
       "  <thead>\n",
       "    <tr style=\"text-align: right;\">\n",
       "      <th></th>\n",
       "      <th>latitude</th>\n",
       "      <th>longitude</th>\n",
       "    </tr>\n",
       "  </thead>\n",
       "  <tbody>\n",
       "    <tr>\n",
       "      <th>0</th>\n",
       "      <td>-33.86934</td>\n",
       "      <td>151.22688</td>\n",
       "    </tr>\n",
       "    <tr>\n",
       "      <th>1</th>\n",
       "      <td>-33.86515</td>\n",
       "      <td>151.19190</td>\n",
       "    </tr>\n",
       "    <tr>\n",
       "      <th>2</th>\n",
       "      <td>-33.80093</td>\n",
       "      <td>151.26172</td>\n",
       "    </tr>\n",
       "    <tr>\n",
       "      <th>3</th>\n",
       "      <td>-33.87964</td>\n",
       "      <td>151.21680</td>\n",
       "    </tr>\n",
       "    <tr>\n",
       "      <th>4</th>\n",
       "      <td>-33.87888</td>\n",
       "      <td>151.21439</td>\n",
       "    </tr>\n",
       "  </tbody>\n",
       "</table>\n",
       "</div>"
      ],
      "text/plain": [
       "   latitude  longitude\n",
       "0 -33.86934  151.22688\n",
       "1 -33.86515  151.19190\n",
       "2 -33.80093  151.26172\n",
       "3 -33.87964  151.21680\n",
       "4 -33.87888  151.21439"
      ]
     },
     "execution_count": 62,
     "metadata": {},
     "output_type": "execute_result"
    }
   ],
   "source": [
    "sydney.head()"
   ]
  },
  {
   "cell_type": "code",
   "execution_count": 63,
   "metadata": {},
   "outputs": [
    {
     "name": "stderr",
     "output_type": "stream",
     "text": [
      "C:\\Users\\Beverly\\anaconda3\\envs\\case_python\\lib\\site-packages\\ipykernel_launcher.py:2: SettingWithCopyWarning: \n",
      "A value is trying to be set on a copy of a slice from a DataFrame.\n",
      "Try using .loc[row_indexer,col_indexer] = value instead\n",
      "\n",
      "See the caveats in the documentation: https://pandas.pydata.org/pandas-docs/stable/user_guide/indexing.html#returning-a-view-versus-a-copy\n",
      "  \n"
     ]
    }
   ],
   "source": [
    "#Using the citipy package to find the nearest city to the lat and long provided\n",
    "sydney['city'] = sydney.apply(lambda row: citipy.nearest_city(row.latitude, row.longitude).city_name, axis = 1)"
   ]
  },
  {
   "cell_type": "code",
   "execution_count": 64,
   "metadata": {},
   "outputs": [
    {
     "name": "stderr",
     "output_type": "stream",
     "text": [
      "C:\\Users\\Beverly\\anaconda3\\envs\\case_python\\lib\\site-packages\\ipykernel_launcher.py:2: SettingWithCopyWarning: \n",
      "A value is trying to be set on a copy of a slice from a DataFrame.\n",
      "Try using .loc[row_indexer,col_indexer] = value instead\n",
      "\n",
      "See the caveats in the documentation: https://pandas.pydata.org/pandas-docs/stable/user_guide/indexing.html#returning-a-view-versus-a-copy\n",
      "  \n"
     ]
    }
   ],
   "source": [
    "#Using the citipy package to find the nearest city to the lat and long provided\n",
    "sydney['country'] = sydney.apply(lambda row: citipy.nearest_city(row.latitude, row.longitude).country_code, axis = 1)"
   ]
  },
  {
   "cell_type": "code",
   "execution_count": 65,
   "metadata": {},
   "outputs": [
    {
     "data": {
      "text/html": [
       "<div>\n",
       "<style scoped>\n",
       "    .dataframe tbody tr th:only-of-type {\n",
       "        vertical-align: middle;\n",
       "    }\n",
       "\n",
       "    .dataframe tbody tr th {\n",
       "        vertical-align: top;\n",
       "    }\n",
       "\n",
       "    .dataframe thead th {\n",
       "        text-align: right;\n",
       "    }\n",
       "</style>\n",
       "<table border=\"1\" class=\"dataframe\">\n",
       "  <thead>\n",
       "    <tr style=\"text-align: right;\">\n",
       "      <th></th>\n",
       "      <th>latitude</th>\n",
       "      <th>longitude</th>\n",
       "      <th>city</th>\n",
       "      <th>country</th>\n",
       "    </tr>\n",
       "  </thead>\n",
       "  <tbody>\n",
       "    <tr>\n",
       "      <th>0</th>\n",
       "      <td>-33.86934</td>\n",
       "      <td>151.22688</td>\n",
       "      <td>sydney</td>\n",
       "      <td>au</td>\n",
       "    </tr>\n",
       "    <tr>\n",
       "      <th>1</th>\n",
       "      <td>-33.86515</td>\n",
       "      <td>151.19190</td>\n",
       "      <td>sydney</td>\n",
       "      <td>au</td>\n",
       "    </tr>\n",
       "    <tr>\n",
       "      <th>2</th>\n",
       "      <td>-33.80093</td>\n",
       "      <td>151.26172</td>\n",
       "      <td>sydney</td>\n",
       "      <td>au</td>\n",
       "    </tr>\n",
       "    <tr>\n",
       "      <th>3</th>\n",
       "      <td>-33.87964</td>\n",
       "      <td>151.21680</td>\n",
       "      <td>sydney</td>\n",
       "      <td>au</td>\n",
       "    </tr>\n",
       "    <tr>\n",
       "      <th>4</th>\n",
       "      <td>-33.87888</td>\n",
       "      <td>151.21439</td>\n",
       "      <td>sydney</td>\n",
       "      <td>au</td>\n",
       "    </tr>\n",
       "  </tbody>\n",
       "</table>\n",
       "</div>"
      ],
      "text/plain": [
       "   latitude  longitude    city country\n",
       "0 -33.86934  151.22688  sydney      au\n",
       "1 -33.86515  151.19190  sydney      au\n",
       "2 -33.80093  151.26172  sydney      au\n",
       "3 -33.87964  151.21680  sydney      au\n",
       "4 -33.87888  151.21439  sydney      au"
      ]
     },
     "execution_count": 65,
     "metadata": {},
     "output_type": "execute_result"
    }
   ],
   "source": [
    "sydney.head()"
   ]
  },
  {
   "cell_type": "code",
   "execution_count": 66,
   "metadata": {},
   "outputs": [
    {
     "data": {
      "text/html": [
       "<div>\n",
       "<style scoped>\n",
       "    .dataframe tbody tr th:only-of-type {\n",
       "        vertical-align: middle;\n",
       "    }\n",
       "\n",
       "    .dataframe tbody tr th {\n",
       "        vertical-align: top;\n",
       "    }\n",
       "\n",
       "    .dataframe thead th {\n",
       "        text-align: right;\n",
       "    }\n",
       "</style>\n",
       "<table border=\"1\" class=\"dataframe\">\n",
       "  <thead>\n",
       "    <tr style=\"text-align: right;\">\n",
       "      <th></th>\n",
       "      <th>city</th>\n",
       "    </tr>\n",
       "  </thead>\n",
       "  <tbody>\n",
       "    <tr>\n",
       "      <th>0</th>\n",
       "      <td>lithgow</td>\n",
       "    </tr>\n",
       "    <tr>\n",
       "      <th>1</th>\n",
       "      <td>sydney</td>\n",
       "    </tr>\n",
       "    <tr>\n",
       "      <th>2</th>\n",
       "      <td>wollongong</td>\n",
       "    </tr>\n",
       "  </tbody>\n",
       "</table>\n",
       "</div>"
      ],
      "text/plain": [
       "         city\n",
       "0     lithgow\n",
       "1      sydney\n",
       "2  wollongong"
      ]
     },
     "execution_count": 66,
     "metadata": {},
     "output_type": "execute_result"
    }
   ],
   "source": [
    "#Grouping by city to remove duplicates\n",
    "\n",
    "sydney_cities = sydney[['city']].groupby(['city'])\n",
    "sydney_cities_df = sydney_cities.sum()\n",
    "sydney_cities_df.reset_index(level=0, inplace=True)\n",
    "sydney_cities_df"
   ]
  },
  {
   "cell_type": "code",
   "execution_count": 67,
   "metadata": {},
   "outputs": [
    {
     "data": {
      "text/html": [
       "<div>\n",
       "<style scoped>\n",
       "    .dataframe tbody tr th:only-of-type {\n",
       "        vertical-align: middle;\n",
       "    }\n",
       "\n",
       "    .dataframe tbody tr th {\n",
       "        vertical-align: top;\n",
       "    }\n",
       "\n",
       "    .dataframe thead th {\n",
       "        text-align: right;\n",
       "    }\n",
       "</style>\n",
       "<table border=\"1\" class=\"dataframe\">\n",
       "  <thead>\n",
       "    <tr style=\"text-align: right;\">\n",
       "      <th></th>\n",
       "      <th>country</th>\n",
       "    </tr>\n",
       "  </thead>\n",
       "  <tbody>\n",
       "    <tr>\n",
       "      <th>0</th>\n",
       "      <td>au</td>\n",
       "    </tr>\n",
       "  </tbody>\n",
       "</table>\n",
       "</div>"
      ],
      "text/plain": [
       "  country\n",
       "0      au"
      ]
     },
     "execution_count": 67,
     "metadata": {},
     "output_type": "execute_result"
    }
   ],
   "source": [
    "#Grouping by city to remove duplicates\n",
    "\n",
    "sydney_countries = sydney[['country']].groupby(['country'])\n",
    "sydney_countries_df = sydney_countries.sum()\n",
    "sydney_countries_df.reset_index(level=0, inplace=True)\n",
    "sydney_countries_df"
   ]
  },
  {
   "cell_type": "code",
   "execution_count": 68,
   "metadata": {},
   "outputs": [
    {
     "data": {
      "text/plain": [
       "['lithgow', 'sydney', 'wollongong']"
      ]
     },
     "execution_count": 68,
     "metadata": {},
     "output_type": "execute_result"
    }
   ],
   "source": [
    "#Transforming our city series into a city list to use with the api\n",
    "\n",
    "sy_city = sydney_cities_df['city']\n",
    "sy_city\n",
    "cities = sy_city.values.tolist()\n",
    "cities"
   ]
  },
  {
   "cell_type": "code",
   "execution_count": 69,
   "metadata": {},
   "outputs": [],
   "source": [
    "#Transforming our city series into a city list to use with the api\n",
    "\n",
    "sy_country = sydney_countries_df['country']\n",
    "#nz_city\n",
    "country = sy_country[0]\n"
   ]
  },
  {
   "cell_type": "code",
   "execution_count": 70,
   "metadata": {},
   "outputs": [
    {
     "name": "stdout",
     "output_type": "stream",
     "text": [
      "Getting lithgow's weather information(City #1).\n",
      "Getting sydney's weather information(City #2).\n",
      "Getting wollongong's weather information(City #3).\n"
     ]
    }
   ],
   "source": [
    "#Open weather information\n",
    "url = \"http://api.openweathermap.org/data/2.5/weather?\"\n",
    "units = \"imperial\"\n",
    "\n",
    "\n",
    "\n",
    "#field_names\n",
    "#empty lists for the fields of our future city weather csv\n",
    "city_list = []\n",
    "lat = []\n",
    "lng = []\n",
    "max_temp = []\n",
    "humidity = []\n",
    "cloudiness = []\n",
    "wind_speed = []\n",
    "country_list = []\n",
    "\n",
    "for city in cities:\n",
    "    \n",
    "    #Get the city's number\n",
    "    city_no = cities.index(city) + 1\n",
    "    \n",
    "    try:\n",
    "        query_url = f\"{url}appid={weather_api_key}&q={city},{country}&units={units}\"\n",
    "        \n",
    "        \n",
    "\n",
    "        # Get weather data\n",
    "        weather_response = requests.get(query_url)\n",
    "        weather_json = weather_response.json()\n",
    "\n",
    "        #Put the city's weather into lists\n",
    "        city_list.append(weather_json[\"name\"])\n",
    "        lat.append(weather_json[\"coord\"][\"lat\"])\n",
    "        lng.append(weather_json[\"coord\"][\"lon\"])\n",
    "        max_temp.append(weather_json[\"main\"][\"temp_max\"])\n",
    "        humidity.append(weather_json[\"main\"][\"humidity\"])\n",
    "        cloudiness.append(weather_json[\"clouds\"][\"all\"])\n",
    "        wind_speed.append(weather_json[\"wind\"][\"speed\"])\n",
    "        country_list.append(weather_json[\"sys\"][\"country\"])\n",
    "        \n",
    "        print(f\"Getting {city}\\'s weather information(City #{city_no}).\" )\n",
    "    except KeyError:\n",
    "        print(f\"Can't find {city} (City #{city_no}) .\")"
   ]
  },
  {
   "cell_type": "code",
   "execution_count": 71,
   "metadata": {},
   "outputs": [],
   "source": [
    "#Putting city results into a dictionary\n",
    "city_dict = {'City': city_list, 'Lat': lat, 'Lng': lng, \"Max Temp\": max_temp, \"Humidity\": humidity, \"Cloudiness\": cloudiness, \"Wind Speed\": wind_speed, \"Country\": country_list}\n"
   ]
  },
  {
   "cell_type": "code",
   "execution_count": 72,
   "metadata": {},
   "outputs": [],
   "source": [
    "#Loading Sydney"
   ]
  },
  {
   "cell_type": "code",
   "execution_count": 73,
   "metadata": {},
   "outputs": [],
   "source": [
    "#Appending city results to csv\n",
    "\n",
    "zd = zip(*city_dict.values())\n",
    "#, encoding='utf-8'\n",
    "\n",
    "with open(\"weather_data/cities.csv\", 'a', encoding='utf-8') as file:\n",
    "    writer = csv.writer(file, delimiter=',', lineterminator = '\\n')\n",
    "    #writer.writerow(city_dict.keys())\n",
    "    writer.writerows(zd)\n"
   ]
  },
  {
   "cell_type": "code",
   "execution_count": null,
   "metadata": {},
   "outputs": [],
   "source": []
  },
  {
   "cell_type": "code",
   "execution_count": null,
   "metadata": {},
   "outputs": [],
   "source": [
    "#Extracting Thailand data"
   ]
  },
  {
   "cell_type": "code",
   "execution_count": 74,
   "metadata": {},
   "outputs": [],
   "source": [
    "thailand_df = pd.read_csv(\"airbb_data/thailand.csv\")\n",
    "\n",
    "thailand = thailand_df[['latitude', 'longitude']]"
   ]
  },
  {
   "cell_type": "code",
   "execution_count": 75,
   "metadata": {},
   "outputs": [
    {
     "data": {
      "text/html": [
       "<div>\n",
       "<style scoped>\n",
       "    .dataframe tbody tr th:only-of-type {\n",
       "        vertical-align: middle;\n",
       "    }\n",
       "\n",
       "    .dataframe tbody tr th {\n",
       "        vertical-align: top;\n",
       "    }\n",
       "\n",
       "    .dataframe thead th {\n",
       "        text-align: right;\n",
       "    }\n",
       "</style>\n",
       "<table border=\"1\" class=\"dataframe\">\n",
       "  <thead>\n",
       "    <tr style=\"text-align: right;\">\n",
       "      <th></th>\n",
       "      <th>latitude</th>\n",
       "      <th>longitude</th>\n",
       "    </tr>\n",
       "  </thead>\n",
       "  <tbody>\n",
       "    <tr>\n",
       "      <th>0</th>\n",
       "      <td>13.76000</td>\n",
       "      <td>100.54269</td>\n",
       "    </tr>\n",
       "    <tr>\n",
       "      <th>1</th>\n",
       "      <td>13.73463</td>\n",
       "      <td>100.47540</td>\n",
       "    </tr>\n",
       "    <tr>\n",
       "      <th>2</th>\n",
       "      <td>13.66746</td>\n",
       "      <td>100.61540</td>\n",
       "    </tr>\n",
       "    <tr>\n",
       "      <th>3</th>\n",
       "      <td>13.80970</td>\n",
       "      <td>100.56527</td>\n",
       "    </tr>\n",
       "    <tr>\n",
       "      <th>4</th>\n",
       "      <td>13.75379</td>\n",
       "      <td>100.62422</td>\n",
       "    </tr>\n",
       "  </tbody>\n",
       "</table>\n",
       "</div>"
      ],
      "text/plain": [
       "   latitude  longitude\n",
       "0  13.76000  100.54269\n",
       "1  13.73463  100.47540\n",
       "2  13.66746  100.61540\n",
       "3  13.80970  100.56527\n",
       "4  13.75379  100.62422"
      ]
     },
     "execution_count": 75,
     "metadata": {},
     "output_type": "execute_result"
    }
   ],
   "source": [
    "thailand.head()"
   ]
  },
  {
   "cell_type": "code",
   "execution_count": 76,
   "metadata": {},
   "outputs": [
    {
     "name": "stderr",
     "output_type": "stream",
     "text": [
      "C:\\Users\\Beverly\\anaconda3\\envs\\case_python\\lib\\site-packages\\ipykernel_launcher.py:2: SettingWithCopyWarning: \n",
      "A value is trying to be set on a copy of a slice from a DataFrame.\n",
      "Try using .loc[row_indexer,col_indexer] = value instead\n",
      "\n",
      "See the caveats in the documentation: https://pandas.pydata.org/pandas-docs/stable/user_guide/indexing.html#returning-a-view-versus-a-copy\n",
      "  \n"
     ]
    }
   ],
   "source": [
    "#Using the citipy package to find the nearest city to the lat and long provided\n",
    "thailand['city'] = thailand.apply(lambda row: citipy.nearest_city(row.latitude, row.longitude).city_name, axis = 1)"
   ]
  },
  {
   "cell_type": "code",
   "execution_count": 77,
   "metadata": {},
   "outputs": [
    {
     "name": "stderr",
     "output_type": "stream",
     "text": [
      "C:\\Users\\Beverly\\anaconda3\\envs\\case_python\\lib\\site-packages\\ipykernel_launcher.py:2: SettingWithCopyWarning: \n",
      "A value is trying to be set on a copy of a slice from a DataFrame.\n",
      "Try using .loc[row_indexer,col_indexer] = value instead\n",
      "\n",
      "See the caveats in the documentation: https://pandas.pydata.org/pandas-docs/stable/user_guide/indexing.html#returning-a-view-versus-a-copy\n",
      "  \n"
     ]
    }
   ],
   "source": [
    "#Using the citipy package to find the nearest city to the lat and long provided\n",
    "thailand['country'] = thailand.apply(lambda row: citipy.nearest_city(row.latitude, row.longitude).country_code, axis = 1)"
   ]
  },
  {
   "cell_type": "code",
   "execution_count": 78,
   "metadata": {},
   "outputs": [
    {
     "data": {
      "text/html": [
       "<div>\n",
       "<style scoped>\n",
       "    .dataframe tbody tr th:only-of-type {\n",
       "        vertical-align: middle;\n",
       "    }\n",
       "\n",
       "    .dataframe tbody tr th {\n",
       "        vertical-align: top;\n",
       "    }\n",
       "\n",
       "    .dataframe thead th {\n",
       "        text-align: right;\n",
       "    }\n",
       "</style>\n",
       "<table border=\"1\" class=\"dataframe\">\n",
       "  <thead>\n",
       "    <tr style=\"text-align: right;\">\n",
       "      <th></th>\n",
       "      <th>latitude</th>\n",
       "      <th>longitude</th>\n",
       "      <th>city</th>\n",
       "      <th>country</th>\n",
       "    </tr>\n",
       "  </thead>\n",
       "  <tbody>\n",
       "    <tr>\n",
       "      <th>0</th>\n",
       "      <td>13.76000</td>\n",
       "      <td>100.54269</td>\n",
       "      <td>bangkok</td>\n",
       "      <td>th</td>\n",
       "    </tr>\n",
       "    <tr>\n",
       "      <th>1</th>\n",
       "      <td>13.73463</td>\n",
       "      <td>100.47540</td>\n",
       "      <td>bangkok</td>\n",
       "      <td>th</td>\n",
       "    </tr>\n",
       "    <tr>\n",
       "      <th>2</th>\n",
       "      <td>13.66746</td>\n",
       "      <td>100.61540</td>\n",
       "      <td>samut prakan</td>\n",
       "      <td>th</td>\n",
       "    </tr>\n",
       "    <tr>\n",
       "      <th>3</th>\n",
       "      <td>13.80970</td>\n",
       "      <td>100.56527</td>\n",
       "      <td>nonthaburi</td>\n",
       "      <td>th</td>\n",
       "    </tr>\n",
       "    <tr>\n",
       "      <th>4</th>\n",
       "      <td>13.75379</td>\n",
       "      <td>100.62422</td>\n",
       "      <td>bangkok</td>\n",
       "      <td>th</td>\n",
       "    </tr>\n",
       "  </tbody>\n",
       "</table>\n",
       "</div>"
      ],
      "text/plain": [
       "   latitude  longitude          city country\n",
       "0  13.76000  100.54269       bangkok      th\n",
       "1  13.73463  100.47540       bangkok      th\n",
       "2  13.66746  100.61540  samut prakan      th\n",
       "3  13.80970  100.56527    nonthaburi      th\n",
       "4  13.75379  100.62422       bangkok      th"
      ]
     },
     "execution_count": 78,
     "metadata": {},
     "output_type": "execute_result"
    }
   ],
   "source": [
    "thailand.head()"
   ]
  },
  {
   "cell_type": "code",
   "execution_count": 79,
   "metadata": {},
   "outputs": [
    {
     "data": {
      "text/html": [
       "<div>\n",
       "<style scoped>\n",
       "    .dataframe tbody tr th:only-of-type {\n",
       "        vertical-align: middle;\n",
       "    }\n",
       "\n",
       "    .dataframe tbody tr th {\n",
       "        vertical-align: top;\n",
       "    }\n",
       "\n",
       "    .dataframe thead th {\n",
       "        text-align: right;\n",
       "    }\n",
       "</style>\n",
       "<table border=\"1\" class=\"dataframe\">\n",
       "  <thead>\n",
       "    <tr style=\"text-align: right;\">\n",
       "      <th></th>\n",
       "      <th>city</th>\n",
       "    </tr>\n",
       "  </thead>\n",
       "  <tbody>\n",
       "    <tr>\n",
       "      <th>0</th>\n",
       "      <td>bang sao thong</td>\n",
       "    </tr>\n",
       "    <tr>\n",
       "      <th>1</th>\n",
       "      <td>bang yai</td>\n",
       "    </tr>\n",
       "    <tr>\n",
       "      <th>2</th>\n",
       "      <td>bangkok</td>\n",
       "    </tr>\n",
       "    <tr>\n",
       "      <th>3</th>\n",
       "      <td>chachoengsao</td>\n",
       "    </tr>\n",
       "    <tr>\n",
       "      <th>4</th>\n",
       "      <td>krathum baen</td>\n",
       "    </tr>\n",
       "    <tr>\n",
       "      <th>5</th>\n",
       "      <td>lam luk ka</td>\n",
       "    </tr>\n",
       "    <tr>\n",
       "      <th>6</th>\n",
       "      <td>nonthaburi</td>\n",
       "    </tr>\n",
       "    <tr>\n",
       "      <th>7</th>\n",
       "      <td>pak kret</td>\n",
       "    </tr>\n",
       "    <tr>\n",
       "      <th>8</th>\n",
       "      <td>pathum thani</td>\n",
       "    </tr>\n",
       "    <tr>\n",
       "      <th>9</th>\n",
       "      <td>phra pradaeng</td>\n",
       "    </tr>\n",
       "    <tr>\n",
       "      <th>10</th>\n",
       "      <td>sam phran</td>\n",
       "    </tr>\n",
       "    <tr>\n",
       "      <th>11</th>\n",
       "      <td>samut prakan</td>\n",
       "    </tr>\n",
       "    <tr>\n",
       "      <th>12</th>\n",
       "      <td>samut sakhon</td>\n",
       "    </tr>\n",
       "  </tbody>\n",
       "</table>\n",
       "</div>"
      ],
      "text/plain": [
       "              city\n",
       "0   bang sao thong\n",
       "1         bang yai\n",
       "2          bangkok\n",
       "3     chachoengsao\n",
       "4     krathum baen\n",
       "5       lam luk ka\n",
       "6       nonthaburi\n",
       "7         pak kret\n",
       "8     pathum thani\n",
       "9    phra pradaeng\n",
       "10       sam phran\n",
       "11    samut prakan\n",
       "12    samut sakhon"
      ]
     },
     "execution_count": 79,
     "metadata": {},
     "output_type": "execute_result"
    }
   ],
   "source": [
    "#Grouping by city to remove duplicates\n",
    "\n",
    "thailand_cities = thailand[['city']].groupby(['city'])\n",
    "thailand_cities_df = thailand_cities.sum()\n",
    "thailand_cities_df.reset_index(level=0, inplace=True)\n",
    "thailand_cities_df"
   ]
  },
  {
   "cell_type": "code",
   "execution_count": 80,
   "metadata": {},
   "outputs": [
    {
     "data": {
      "text/html": [
       "<div>\n",
       "<style scoped>\n",
       "    .dataframe tbody tr th:only-of-type {\n",
       "        vertical-align: middle;\n",
       "    }\n",
       "\n",
       "    .dataframe tbody tr th {\n",
       "        vertical-align: top;\n",
       "    }\n",
       "\n",
       "    .dataframe thead th {\n",
       "        text-align: right;\n",
       "    }\n",
       "</style>\n",
       "<table border=\"1\" class=\"dataframe\">\n",
       "  <thead>\n",
       "    <tr style=\"text-align: right;\">\n",
       "      <th></th>\n",
       "      <th>country</th>\n",
       "    </tr>\n",
       "  </thead>\n",
       "  <tbody>\n",
       "    <tr>\n",
       "      <th>0</th>\n",
       "      <td>th</td>\n",
       "    </tr>\n",
       "  </tbody>\n",
       "</table>\n",
       "</div>"
      ],
      "text/plain": [
       "  country\n",
       "0      th"
      ]
     },
     "execution_count": 80,
     "metadata": {},
     "output_type": "execute_result"
    }
   ],
   "source": [
    "#Grouping by city to remove duplicates\n",
    "\n",
    "thailand_countries = thailand[['country']].groupby(['country'])\n",
    "thailand_countries_df = thailand_countries.sum()\n",
    "thailand_countries_df.reset_index(level=0, inplace=True)\n",
    "thailand_countries_df"
   ]
  },
  {
   "cell_type": "code",
   "execution_count": 81,
   "metadata": {},
   "outputs": [
    {
     "data": {
      "text/plain": [
       "['bang sao thong',\n",
       " 'bang yai',\n",
       " 'bangkok',\n",
       " 'chachoengsao',\n",
       " 'krathum baen',\n",
       " 'lam luk ka',\n",
       " 'nonthaburi',\n",
       " 'pak kret',\n",
       " 'pathum thani',\n",
       " 'phra pradaeng',\n",
       " 'sam phran',\n",
       " 'samut prakan',\n",
       " 'samut sakhon']"
      ]
     },
     "execution_count": 81,
     "metadata": {},
     "output_type": "execute_result"
    }
   ],
   "source": [
    "#Transforming our city series into a city list to use with the api\n",
    "\n",
    "td_city = thailand_cities_df['city']\n",
    "td_city\n",
    "cities = td_city.values.tolist()\n",
    "cities"
   ]
  },
  {
   "cell_type": "code",
   "execution_count": 82,
   "metadata": {},
   "outputs": [],
   "source": [
    "#Transforming our city series into a city list to use with the api\n",
    "\n",
    "td_country = thailand_countries_df['country']\n",
    "#nz_city\n",
    "country = td_country[0]\n"
   ]
  },
  {
   "cell_type": "code",
   "execution_count": 83,
   "metadata": {},
   "outputs": [
    {
     "name": "stdout",
     "output_type": "stream",
     "text": [
      "Getting bang sao thong's weather information(City #1).\n",
      "Getting bang yai's weather information(City #2).\n",
      "Getting bangkok's weather information(City #3).\n",
      "Getting chachoengsao's weather information(City #4).\n",
      "Getting krathum baen's weather information(City #5).\n",
      "Getting lam luk ka's weather information(City #6).\n",
      "Getting nonthaburi's weather information(City #7).\n",
      "Getting pak kret's weather information(City #8).\n",
      "Getting pathum thani's weather information(City #9).\n",
      "Getting phra pradaeng's weather information(City #10).\n",
      "Getting sam phran's weather information(City #11).\n",
      "Getting samut prakan's weather information(City #12).\n",
      "Getting samut sakhon's weather information(City #13).\n"
     ]
    }
   ],
   "source": [
    "#Open weather information\n",
    "url = \"http://api.openweathermap.org/data/2.5/weather?\"\n",
    "units = \"imperial\"\n",
    "\n",
    "\n",
    "\n",
    "#field_names\n",
    "#empty lists for the fields of our future city weather csv\n",
    "city_list = []\n",
    "lat = []\n",
    "lng = []\n",
    "max_temp = []\n",
    "humidity = []\n",
    "cloudiness = []\n",
    "wind_speed = []\n",
    "country_list = []\n",
    "\n",
    "for city in cities:\n",
    "    \n",
    "    #Get the city's number\n",
    "    city_no = cities.index(city) + 1\n",
    "    \n",
    "    try:\n",
    "        query_url = f\"{url}appid={weather_api_key}&q={city},{country}&units={units}\"\n",
    "        \n",
    "        \n",
    "\n",
    "        # Get weather data\n",
    "        weather_response = requests.get(query_url)\n",
    "        weather_json = weather_response.json()\n",
    "\n",
    "        #Put the city's weather into lists\n",
    "        city_list.append(weather_json[\"name\"])\n",
    "        lat.append(weather_json[\"coord\"][\"lat\"])\n",
    "        lng.append(weather_json[\"coord\"][\"lon\"])\n",
    "        max_temp.append(weather_json[\"main\"][\"temp_max\"])\n",
    "        humidity.append(weather_json[\"main\"][\"humidity\"])\n",
    "        cloudiness.append(weather_json[\"clouds\"][\"all\"])\n",
    "        wind_speed.append(weather_json[\"wind\"][\"speed\"])\n",
    "        country_list.append(weather_json[\"sys\"][\"country\"])\n",
    "        \n",
    "        print(f\"Getting {city}\\'s weather information(City #{city_no}).\" )\n",
    "    except KeyError:\n",
    "        print(f\"Can't find {city} (City #{city_no}) .\")"
   ]
  },
  {
   "cell_type": "code",
   "execution_count": 84,
   "metadata": {},
   "outputs": [],
   "source": [
    "#Putting city results into a dictionary\n",
    "city_dict = {'City': city_list, 'Lat': lat, 'Lng': lng, \"Max Temp\": max_temp, \"Humidity\": humidity, \"Cloudiness\": cloudiness, \"Wind Speed\": wind_speed, \"Country\": country_list}\n"
   ]
  },
  {
   "cell_type": "code",
   "execution_count": null,
   "metadata": {},
   "outputs": [],
   "source": [
    "#Loading Thailand"
   ]
  },
  {
   "cell_type": "code",
   "execution_count": 85,
   "metadata": {},
   "outputs": [],
   "source": [
    "#Appending city results to csv\n",
    "\n",
    "zd = zip(*city_dict.values())\n",
    "#, encoding='utf-8'\n",
    "\n",
    "with open(\"weather_data/cities.csv\", 'a', encoding='utf-8') as file:\n",
    "    writer = csv.writer(file, delimiter=',', lineterminator = '\\n')\n",
    "    #writer.writerow(city_dict.keys())\n",
    "    writer.writerows(zd)\n"
   ]
  },
  {
   "cell_type": "code",
   "execution_count": null,
   "metadata": {},
   "outputs": [],
   "source": []
  },
  {
   "cell_type": "code",
   "execution_count": null,
   "metadata": {},
   "outputs": [],
   "source": [
    "#Extracting Venice data"
   ]
  },
  {
   "cell_type": "code",
   "execution_count": 86,
   "metadata": {},
   "outputs": [],
   "source": [
    "venice_df = pd.read_csv(\"airbb_data/venice-airbb.csv\")\n",
    "\n",
    "venice = venice_df[['latitude', 'longitude']]"
   ]
  },
  {
   "cell_type": "code",
   "execution_count": 87,
   "metadata": {},
   "outputs": [
    {
     "data": {
      "text/html": [
       "<div>\n",
       "<style scoped>\n",
       "    .dataframe tbody tr th:only-of-type {\n",
       "        vertical-align: middle;\n",
       "    }\n",
       "\n",
       "    .dataframe tbody tr th {\n",
       "        vertical-align: top;\n",
       "    }\n",
       "\n",
       "    .dataframe thead th {\n",
       "        text-align: right;\n",
       "    }\n",
       "</style>\n",
       "<table border=\"1\" class=\"dataframe\">\n",
       "  <thead>\n",
       "    <tr style=\"text-align: right;\">\n",
       "      <th></th>\n",
       "      <th>latitude</th>\n",
       "      <th>longitude</th>\n",
       "    </tr>\n",
       "  </thead>\n",
       "  <tbody>\n",
       "    <tr>\n",
       "      <th>0</th>\n",
       "      <td>45.43823</td>\n",
       "      <td>12.32902</td>\n",
       "    </tr>\n",
       "    <tr>\n",
       "      <th>1</th>\n",
       "      <td>45.43971</td>\n",
       "      <td>12.32799</td>\n",
       "    </tr>\n",
       "    <tr>\n",
       "      <th>2</th>\n",
       "      <td>45.44049</td>\n",
       "      <td>12.32877</td>\n",
       "    </tr>\n",
       "    <tr>\n",
       "      <th>3</th>\n",
       "      <td>45.43221</td>\n",
       "      <td>12.33411</td>\n",
       "    </tr>\n",
       "    <tr>\n",
       "      <th>4</th>\n",
       "      <td>45.44754</td>\n",
       "      <td>12.32918</td>\n",
       "    </tr>\n",
       "  </tbody>\n",
       "</table>\n",
       "</div>"
      ],
      "text/plain": [
       "   latitude  longitude\n",
       "0  45.43823   12.32902\n",
       "1  45.43971   12.32799\n",
       "2  45.44049   12.32877\n",
       "3  45.43221   12.33411\n",
       "4  45.44754   12.32918"
      ]
     },
     "execution_count": 87,
     "metadata": {},
     "output_type": "execute_result"
    }
   ],
   "source": [
    "venice.head()"
   ]
  },
  {
   "cell_type": "code",
   "execution_count": 88,
   "metadata": {},
   "outputs": [
    {
     "name": "stderr",
     "output_type": "stream",
     "text": [
      "C:\\Users\\Beverly\\anaconda3\\envs\\case_python\\lib\\site-packages\\ipykernel_launcher.py:2: SettingWithCopyWarning: \n",
      "A value is trying to be set on a copy of a slice from a DataFrame.\n",
      "Try using .loc[row_indexer,col_indexer] = value instead\n",
      "\n",
      "See the caveats in the documentation: https://pandas.pydata.org/pandas-docs/stable/user_guide/indexing.html#returning-a-view-versus-a-copy\n",
      "  \n"
     ]
    }
   ],
   "source": [
    "#Using the citipy package to find the nearest city to the lat and long provided\n",
    "venice['city'] = venice.apply(lambda row: citipy.nearest_city(row.latitude, row.longitude).city_name, axis = 1)"
   ]
  },
  {
   "cell_type": "code",
   "execution_count": 89,
   "metadata": {},
   "outputs": [
    {
     "name": "stderr",
     "output_type": "stream",
     "text": [
      "C:\\Users\\Beverly\\anaconda3\\envs\\case_python\\lib\\site-packages\\ipykernel_launcher.py:2: SettingWithCopyWarning: \n",
      "A value is trying to be set on a copy of a slice from a DataFrame.\n",
      "Try using .loc[row_indexer,col_indexer] = value instead\n",
      "\n",
      "See the caveats in the documentation: https://pandas.pydata.org/pandas-docs/stable/user_guide/indexing.html#returning-a-view-versus-a-copy\n",
      "  \n"
     ]
    }
   ],
   "source": [
    "#Using the citipy package to find the nearest city to the lat and long provided\n",
    "venice['country'] = venice.apply(lambda row: citipy.nearest_city(row.latitude, row.longitude).country_code, axis = 1)"
   ]
  },
  {
   "cell_type": "code",
   "execution_count": 90,
   "metadata": {},
   "outputs": [
    {
     "data": {
      "text/html": [
       "<div>\n",
       "<style scoped>\n",
       "    .dataframe tbody tr th:only-of-type {\n",
       "        vertical-align: middle;\n",
       "    }\n",
       "\n",
       "    .dataframe tbody tr th {\n",
       "        vertical-align: top;\n",
       "    }\n",
       "\n",
       "    .dataframe thead th {\n",
       "        text-align: right;\n",
       "    }\n",
       "</style>\n",
       "<table border=\"1\" class=\"dataframe\">\n",
       "  <thead>\n",
       "    <tr style=\"text-align: right;\">\n",
       "      <th></th>\n",
       "      <th>latitude</th>\n",
       "      <th>longitude</th>\n",
       "      <th>city</th>\n",
       "      <th>country</th>\n",
       "    </tr>\n",
       "  </thead>\n",
       "  <tbody>\n",
       "    <tr>\n",
       "      <th>0</th>\n",
       "      <td>45.43823</td>\n",
       "      <td>12.32902</td>\n",
       "      <td>venice</td>\n",
       "      <td>it</td>\n",
       "    </tr>\n",
       "    <tr>\n",
       "      <th>1</th>\n",
       "      <td>45.43971</td>\n",
       "      <td>12.32799</td>\n",
       "      <td>venice</td>\n",
       "      <td>it</td>\n",
       "    </tr>\n",
       "    <tr>\n",
       "      <th>2</th>\n",
       "      <td>45.44049</td>\n",
       "      <td>12.32877</td>\n",
       "      <td>venice</td>\n",
       "      <td>it</td>\n",
       "    </tr>\n",
       "    <tr>\n",
       "      <th>3</th>\n",
       "      <td>45.43221</td>\n",
       "      <td>12.33411</td>\n",
       "      <td>venice</td>\n",
       "      <td>it</td>\n",
       "    </tr>\n",
       "    <tr>\n",
       "      <th>4</th>\n",
       "      <td>45.44754</td>\n",
       "      <td>12.32918</td>\n",
       "      <td>venice</td>\n",
       "      <td>it</td>\n",
       "    </tr>\n",
       "  </tbody>\n",
       "</table>\n",
       "</div>"
      ],
      "text/plain": [
       "   latitude  longitude    city country\n",
       "0  45.43823   12.32902  venice      it\n",
       "1  45.43971   12.32799  venice      it\n",
       "2  45.44049   12.32877  venice      it\n",
       "3  45.43221   12.33411  venice      it\n",
       "4  45.44754   12.32918  venice      it"
      ]
     },
     "execution_count": 90,
     "metadata": {},
     "output_type": "execute_result"
    }
   ],
   "source": [
    "venice.head()"
   ]
  },
  {
   "cell_type": "code",
   "execution_count": 91,
   "metadata": {},
   "outputs": [
    {
     "data": {
      "text/html": [
       "<div>\n",
       "<style scoped>\n",
       "    .dataframe tbody tr th:only-of-type {\n",
       "        vertical-align: middle;\n",
       "    }\n",
       "\n",
       "    .dataframe tbody tr th {\n",
       "        vertical-align: top;\n",
       "    }\n",
       "\n",
       "    .dataframe thead th {\n",
       "        text-align: right;\n",
       "    }\n",
       "</style>\n",
       "<table border=\"1\" class=\"dataframe\">\n",
       "  <thead>\n",
       "    <tr style=\"text-align: right;\">\n",
       "      <th></th>\n",
       "      <th>city</th>\n",
       "    </tr>\n",
       "  </thead>\n",
       "  <tbody>\n",
       "    <tr>\n",
       "      <th>0</th>\n",
       "      <td>chioggia</td>\n",
       "    </tr>\n",
       "    <tr>\n",
       "      <th>1</th>\n",
       "      <td>marcon</td>\n",
       "    </tr>\n",
       "    <tr>\n",
       "      <th>2</th>\n",
       "      <td>martellago</td>\n",
       "    </tr>\n",
       "    <tr>\n",
       "      <th>3</th>\n",
       "      <td>mogliano veneto</td>\n",
       "    </tr>\n",
       "    <tr>\n",
       "      <th>4</th>\n",
       "      <td>spinea</td>\n",
       "    </tr>\n",
       "    <tr>\n",
       "      <th>5</th>\n",
       "      <td>venice</td>\n",
       "    </tr>\n",
       "  </tbody>\n",
       "</table>\n",
       "</div>"
      ],
      "text/plain": [
       "              city\n",
       "0         chioggia\n",
       "1           marcon\n",
       "2       martellago\n",
       "3  mogliano veneto\n",
       "4           spinea\n",
       "5           venice"
      ]
     },
     "execution_count": 91,
     "metadata": {},
     "output_type": "execute_result"
    }
   ],
   "source": [
    "#Grouping by city to remove duplicates\n",
    "\n",
    "venice_cities = venice[['city']].groupby(['city'])\n",
    "venice_cities_df = venice_cities.sum()\n",
    "venice_cities_df.reset_index(level=0, inplace=True)\n",
    "venice_cities_df"
   ]
  },
  {
   "cell_type": "code",
   "execution_count": 92,
   "metadata": {},
   "outputs": [
    {
     "data": {
      "text/html": [
       "<div>\n",
       "<style scoped>\n",
       "    .dataframe tbody tr th:only-of-type {\n",
       "        vertical-align: middle;\n",
       "    }\n",
       "\n",
       "    .dataframe tbody tr th {\n",
       "        vertical-align: top;\n",
       "    }\n",
       "\n",
       "    .dataframe thead th {\n",
       "        text-align: right;\n",
       "    }\n",
       "</style>\n",
       "<table border=\"1\" class=\"dataframe\">\n",
       "  <thead>\n",
       "    <tr style=\"text-align: right;\">\n",
       "      <th></th>\n",
       "      <th>country</th>\n",
       "    </tr>\n",
       "  </thead>\n",
       "  <tbody>\n",
       "    <tr>\n",
       "      <th>0</th>\n",
       "      <td>it</td>\n",
       "    </tr>\n",
       "  </tbody>\n",
       "</table>\n",
       "</div>"
      ],
      "text/plain": [
       "  country\n",
       "0      it"
      ]
     },
     "execution_count": 92,
     "metadata": {},
     "output_type": "execute_result"
    }
   ],
   "source": [
    "#Grouping by city to remove duplicates\n",
    "\n",
    "venice_countries = venice[['country']].groupby(['country'])\n",
    "venice_countries_df = venice_countries.sum()\n",
    "venice_countries_df.reset_index(level=0, inplace=True)\n",
    "venice_countries_df"
   ]
  },
  {
   "cell_type": "code",
   "execution_count": 93,
   "metadata": {},
   "outputs": [
    {
     "data": {
      "text/plain": [
       "['chioggia', 'marcon', 'martellago', 'mogliano veneto', 'spinea', 'venice']"
      ]
     },
     "execution_count": 93,
     "metadata": {},
     "output_type": "execute_result"
    }
   ],
   "source": [
    "#Transforming our city series into a city list to use with the api\n",
    "\n",
    "vn_city = venice_cities_df['city']\n",
    "vn_city\n",
    "cities = vn_city.values.tolist()\n",
    "cities"
   ]
  },
  {
   "cell_type": "code",
   "execution_count": 94,
   "metadata": {},
   "outputs": [],
   "source": [
    "#Transforming our city series into a city list to use with the api\n",
    "\n",
    "vn_country = venice_countries_df['country']\n",
    "#nz_city\n",
    "country = vn_country[0]\n"
   ]
  },
  {
   "cell_type": "code",
   "execution_count": 95,
   "metadata": {},
   "outputs": [
    {
     "name": "stdout",
     "output_type": "stream",
     "text": [
      "Getting chioggia's weather information(City #1).\n",
      "Getting marcon's weather information(City #2).\n",
      "Getting martellago's weather information(City #3).\n",
      "Getting mogliano veneto's weather information(City #4).\n",
      "Getting spinea's weather information(City #5).\n",
      "Getting venice's weather information(City #6).\n"
     ]
    }
   ],
   "source": [
    "#Open weather information\n",
    "url = \"http://api.openweathermap.org/data/2.5/weather?\"\n",
    "units = \"imperial\"\n",
    "\n",
    "\n",
    "\n",
    "#field_names\n",
    "#empty lists for the fields of our future city weather csv\n",
    "city_list = []\n",
    "lat = []\n",
    "lng = []\n",
    "max_temp = []\n",
    "humidity = []\n",
    "cloudiness = []\n",
    "wind_speed = []\n",
    "country_list = []\n",
    "\n",
    "for city in cities:\n",
    "    \n",
    "    #Get the city's number\n",
    "    city_no = cities.index(city) + 1\n",
    "    \n",
    "    try:\n",
    "        query_url = f\"{url}appid={weather_api_key}&q={city},{country}&units={units}\"\n",
    "        \n",
    "        \n",
    "\n",
    "        # Get weather data\n",
    "        weather_response = requests.get(query_url)\n",
    "        weather_json = weather_response.json()\n",
    "\n",
    "        #Put the city's weather into lists\n",
    "        city_list.append(weather_json[\"name\"])\n",
    "        lat.append(weather_json[\"coord\"][\"lat\"])\n",
    "        lng.append(weather_json[\"coord\"][\"lon\"])\n",
    "        max_temp.append(weather_json[\"main\"][\"temp_max\"])\n",
    "        humidity.append(weather_json[\"main\"][\"humidity\"])\n",
    "        cloudiness.append(weather_json[\"clouds\"][\"all\"])\n",
    "        wind_speed.append(weather_json[\"wind\"][\"speed\"])\n",
    "        country_list.append(weather_json[\"sys\"][\"country\"])\n",
    "        \n",
    "        print(f\"Getting {city}\\'s weather information(City #{city_no}).\" )\n",
    "    except KeyError:\n",
    "        print(f\"Can't find {city} (City #{city_no}) .\")"
   ]
  },
  {
   "cell_type": "code",
   "execution_count": 96,
   "metadata": {},
   "outputs": [],
   "source": [
    "#Putting city results into a dictionary\n",
    "city_dict = {'City': city_list, 'Lat': lat, 'Lng': lng, \"Max Temp\": max_temp, \"Humidity\": humidity, \"Cloudiness\": cloudiness, \"Wind Speed\": wind_speed, \"Country\": country_list}\n"
   ]
  },
  {
   "cell_type": "code",
   "execution_count": 97,
   "metadata": {},
   "outputs": [],
   "source": [
    "#Loading Venice"
   ]
  },
  {
   "cell_type": "code",
   "execution_count": 98,
   "metadata": {},
   "outputs": [],
   "source": [
    "#Appending city results to csv\n",
    "\n",
    "zd = zip(*city_dict.values())\n",
    "#, encoding='utf-8'\n",
    "\n",
    "with open(\"weather_data/cities.csv\", 'a', encoding='utf-8') as file:\n",
    "    writer = csv.writer(file, delimiter=',', lineterminator = '\\n')\n",
    "    #writer.writerow(city_dict.keys())\n",
    "    writer.writerows(zd)\n"
   ]
  },
  {
   "cell_type": "code",
   "execution_count": null,
   "metadata": {},
   "outputs": [],
   "source": []
  }
 ],
 "metadata": {
  "kernelspec": {
   "display_name": "Python 3",
   "language": "python",
   "name": "python3"
  },
  "language_info": {
   "codemirror_mode": {
    "name": "ipython",
    "version": 3
   },
   "file_extension": ".py",
   "mimetype": "text/x-python",
   "name": "python",
   "nbconvert_exporter": "python",
   "pygments_lexer": "ipython3",
   "version": "3.6.10"
  }
 },
 "nbformat": 4,
 "nbformat_minor": 4
}
